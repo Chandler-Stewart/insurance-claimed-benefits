{
 "cells": [
  {
   "cell_type": "markdown",
   "metadata": {},
   "source": [
    "# Statement"
   ]
  },
  {
   "cell_type": "markdown",
   "metadata": {},
   "source": [
    "The Sure Tomorrow insurance company wants to solve several tasks with the help of Machine Learning and you are asked to evaluate that possibility.\n",
    "\n",
    "- Task 1: Find customers who are similar to a given customer. This will help the company's agents with marketing.\n",
    "- Task 2: Predict whether a new customer is likely to receive an insurance benefit. Can a prediction model do better than a dummy model?\n",
    "- Task 3: Predict the number of insurance benefits a new customer is likely to receive using a linear regression model.\n",
    "- Task 4: Protect clients' personal data without breaking the model from the previous task. It's necessary to develop a data transformation algorithm that would make it hard to recover personal information if the data fell into the wrong hands. This is called data masking, or data obfuscation. But the data should be protected in such a way that the quality of machine learning models doesn't suffer. You don't need to pick the best model, just prove that the algorithm works correctly."
   ]
  },
  {
   "cell_type": "markdown",
   "metadata": {},
   "source": [
    "# Data Preprocessing & Exploration\n",
    "\n",
    "## Initialization"
   ]
  },
  {
   "cell_type": "code",
   "execution_count": 1,
   "metadata": {},
   "outputs": [],
   "source": [
    "import numpy as np\n",
    "import pandas as pd\n",
    "import math\n",
    "\n",
    "import seaborn as sns\n",
    "\n",
    "from scipy.spatial import distance\n",
    "\n",
    "import sklearn.linear_model\n",
    "import sklearn.metrics\n",
    "import sklearn.neighbors as nbr\n",
    "import sklearn.preprocessing\n",
    "\n",
    "from sklearn.neighbors import KNeighborsClassifier\n",
    "\n",
    "from sklearn.model_selection import train_test_split\n",
    "\n",
    "from IPython.display import display\n",
    "\n",
    "import warnings\n",
    "warnings.simplefilter(action='ignore', category=FutureWarning)"
   ]
  },
  {
   "cell_type": "markdown",
   "metadata": {},
   "source": [
    "## Load Data"
   ]
  },
  {
   "cell_type": "markdown",
   "metadata": {},
   "source": [
    "Load data and conduct a basic check that it's free from obvious issues."
   ]
  },
  {
   "cell_type": "code",
   "execution_count": 2,
   "metadata": {},
   "outputs": [],
   "source": [
    "try:\n",
    "    df = pd.read_csv('insurance_us.csv')\n",
    "except:\n",
    "    df = pd.read_csv('/datasets/insurance_us.csv')"
   ]
  },
  {
   "cell_type": "markdown",
   "metadata": {},
   "source": [
    "We rename the colums to make the code look more consistent with its style."
   ]
  },
  {
   "cell_type": "code",
   "execution_count": 3,
   "metadata": {},
   "outputs": [],
   "source": [
    "df = df.rename(columns={'Gender': 'gender', 'Age': 'age', 'Salary': 'income', 'Family members': 'family_members', 'Insurance benefits': 'insurance_benefits'})"
   ]
  },
  {
   "cell_type": "code",
   "execution_count": 4,
   "metadata": {},
   "outputs": [
    {
     "data": {
      "text/html": [
       "<div>\n",
       "<style scoped>\n",
       "    .dataframe tbody tr th:only-of-type {\n",
       "        vertical-align: middle;\n",
       "    }\n",
       "\n",
       "    .dataframe tbody tr th {\n",
       "        vertical-align: top;\n",
       "    }\n",
       "\n",
       "    .dataframe thead th {\n",
       "        text-align: right;\n",
       "    }\n",
       "</style>\n",
       "<table border=\"1\" class=\"dataframe\">\n",
       "  <thead>\n",
       "    <tr style=\"text-align: right;\">\n",
       "      <th></th>\n",
       "      <th>gender</th>\n",
       "      <th>age</th>\n",
       "      <th>income</th>\n",
       "      <th>family_members</th>\n",
       "      <th>insurance_benefits</th>\n",
       "    </tr>\n",
       "  </thead>\n",
       "  <tbody>\n",
       "    <tr>\n",
       "      <td>2735</td>\n",
       "      <td>1</td>\n",
       "      <td>22.0</td>\n",
       "      <td>41300.0</td>\n",
       "      <td>1</td>\n",
       "      <td>0</td>\n",
       "    </tr>\n",
       "    <tr>\n",
       "      <td>3231</td>\n",
       "      <td>0</td>\n",
       "      <td>35.0</td>\n",
       "      <td>22700.0</td>\n",
       "      <td>2</td>\n",
       "      <td>0</td>\n",
       "    </tr>\n",
       "    <tr>\n",
       "      <td>3384</td>\n",
       "      <td>0</td>\n",
       "      <td>18.0</td>\n",
       "      <td>46200.0</td>\n",
       "      <td>1</td>\n",
       "      <td>0</td>\n",
       "    </tr>\n",
       "    <tr>\n",
       "      <td>3171</td>\n",
       "      <td>0</td>\n",
       "      <td>31.0</td>\n",
       "      <td>34300.0</td>\n",
       "      <td>2</td>\n",
       "      <td>0</td>\n",
       "    </tr>\n",
       "    <tr>\n",
       "      <td>4132</td>\n",
       "      <td>1</td>\n",
       "      <td>33.0</td>\n",
       "      <td>29300.0</td>\n",
       "      <td>0</td>\n",
       "      <td>0</td>\n",
       "    </tr>\n",
       "    <tr>\n",
       "      <td>2955</td>\n",
       "      <td>1</td>\n",
       "      <td>32.0</td>\n",
       "      <td>21600.0</td>\n",
       "      <td>0</td>\n",
       "      <td>0</td>\n",
       "    </tr>\n",
       "    <tr>\n",
       "      <td>2241</td>\n",
       "      <td>0</td>\n",
       "      <td>36.0</td>\n",
       "      <td>22800.0</td>\n",
       "      <td>2</td>\n",
       "      <td>0</td>\n",
       "    </tr>\n",
       "    <tr>\n",
       "      <td>3695</td>\n",
       "      <td>1</td>\n",
       "      <td>40.0</td>\n",
       "      <td>39700.0</td>\n",
       "      <td>3</td>\n",
       "      <td>0</td>\n",
       "    </tr>\n",
       "    <tr>\n",
       "      <td>4131</td>\n",
       "      <td>0</td>\n",
       "      <td>33.0</td>\n",
       "      <td>36700.0</td>\n",
       "      <td>0</td>\n",
       "      <td>0</td>\n",
       "    </tr>\n",
       "    <tr>\n",
       "      <td>4236</td>\n",
       "      <td>0</td>\n",
       "      <td>20.0</td>\n",
       "      <td>43000.0</td>\n",
       "      <td>1</td>\n",
       "      <td>0</td>\n",
       "    </tr>\n",
       "  </tbody>\n",
       "</table>\n",
       "</div>"
      ],
      "text/plain": [
       "      gender   age   income  family_members  insurance_benefits\n",
       "2735       1  22.0  41300.0               1                   0\n",
       "3231       0  35.0  22700.0               2                   0\n",
       "3384       0  18.0  46200.0               1                   0\n",
       "3171       0  31.0  34300.0               2                   0\n",
       "4132       1  33.0  29300.0               0                   0\n",
       "2955       1  32.0  21600.0               0                   0\n",
       "2241       0  36.0  22800.0               2                   0\n",
       "3695       1  40.0  39700.0               3                   0\n",
       "4131       0  33.0  36700.0               0                   0\n",
       "4236       0  20.0  43000.0               1                   0"
      ]
     },
     "execution_count": 4,
     "metadata": {},
     "output_type": "execute_result"
    }
   ],
   "source": [
    "df.sample(10)"
   ]
  },
  {
   "cell_type": "code",
   "execution_count": 5,
   "metadata": {},
   "outputs": [
    {
     "name": "stdout",
     "output_type": "stream",
     "text": [
      "<class 'pandas.core.frame.DataFrame'>\n",
      "RangeIndex: 5000 entries, 0 to 4999\n",
      "Data columns (total 5 columns):\n",
      "gender                5000 non-null int64\n",
      "age                   5000 non-null float64\n",
      "income                5000 non-null float64\n",
      "family_members        5000 non-null int64\n",
      "insurance_benefits    5000 non-null int64\n",
      "dtypes: float64(2), int64(3)\n",
      "memory usage: 195.4 KB\n"
     ]
    }
   ],
   "source": [
    "df.info()"
   ]
  },
  {
   "cell_type": "code",
   "execution_count": 6,
   "metadata": {},
   "outputs": [],
   "source": [
    "# we may want to fix the age type (from float to int) though this is not critical\n",
    "df.gender = pd.to_numeric(df.gender, downcast='integer')\n",
    "df.age = pd.to_numeric(df.age, downcast='integer')\n",
    "df.income = pd.to_numeric(df.income, downcast='float')\n",
    "df.family_members = pd.to_numeric(df.family_members, downcast='integer')\n",
    "df.insurance_benefits = pd.to_numeric(df.insurance_benefits, downcast='integer')"
   ]
  },
  {
   "cell_type": "markdown",
   "metadata": {},
   "source": [
    "Now let's check to see that the conversion was successful"
   ]
  },
  {
   "cell_type": "code",
   "execution_count": 8,
   "metadata": {},
   "outputs": [
    {
     "name": "stdout",
     "output_type": "stream",
     "text": [
      "<class 'pandas.core.frame.DataFrame'>\n",
      "RangeIndex: 5000 entries, 0 to 4999\n",
      "Data columns (total 5 columns):\n",
      "gender                5000 non-null int8\n",
      "age                   5000 non-null int8\n",
      "income                5000 non-null float32\n",
      "family_members        5000 non-null int8\n",
      "insurance_benefits    5000 non-null int8\n",
      "dtypes: float32(1), int8(4)\n",
      "memory usage: 39.2 KB\n"
     ]
    }
   ],
   "source": [
    "df.info()"
   ]
  },
  {
   "cell_type": "markdown",
   "metadata": {},
   "source": [
    "now let's have a look at the data's descriptive statistics. Does everything look okay?"
   ]
  },
  {
   "cell_type": "code",
   "execution_count": 10,
   "metadata": {},
   "outputs": [
    {
     "data": {
      "text/html": [
       "<div>\n",
       "<style scoped>\n",
       "    .dataframe tbody tr th:only-of-type {\n",
       "        vertical-align: middle;\n",
       "    }\n",
       "\n",
       "    .dataframe tbody tr th {\n",
       "        vertical-align: top;\n",
       "    }\n",
       "\n",
       "    .dataframe thead th {\n",
       "        text-align: right;\n",
       "    }\n",
       "</style>\n",
       "<table border=\"1\" class=\"dataframe\">\n",
       "  <thead>\n",
       "    <tr style=\"text-align: right;\">\n",
       "      <th></th>\n",
       "      <th>gender</th>\n",
       "      <th>age</th>\n",
       "      <th>income</th>\n",
       "      <th>family_members</th>\n",
       "      <th>insurance_benefits</th>\n",
       "    </tr>\n",
       "  </thead>\n",
       "  <tbody>\n",
       "    <tr>\n",
       "      <td>count</td>\n",
       "      <td>5000.000000</td>\n",
       "      <td>5000.000000</td>\n",
       "      <td>5000.000000</td>\n",
       "      <td>5000.000000</td>\n",
       "      <td>5000.000000</td>\n",
       "    </tr>\n",
       "    <tr>\n",
       "      <td>mean</td>\n",
       "      <td>0.499000</td>\n",
       "      <td>30.952800</td>\n",
       "      <td>39916.359375</td>\n",
       "      <td>1.194200</td>\n",
       "      <td>0.148000</td>\n",
       "    </tr>\n",
       "    <tr>\n",
       "      <td>std</td>\n",
       "      <td>0.500049</td>\n",
       "      <td>8.440807</td>\n",
       "      <td>9900.083984</td>\n",
       "      <td>1.091387</td>\n",
       "      <td>0.463183</td>\n",
       "    </tr>\n",
       "    <tr>\n",
       "      <td>min</td>\n",
       "      <td>0.000000</td>\n",
       "      <td>18.000000</td>\n",
       "      <td>5300.000000</td>\n",
       "      <td>0.000000</td>\n",
       "      <td>0.000000</td>\n",
       "    </tr>\n",
       "    <tr>\n",
       "      <td>25%</td>\n",
       "      <td>0.000000</td>\n",
       "      <td>24.000000</td>\n",
       "      <td>33300.000000</td>\n",
       "      <td>0.000000</td>\n",
       "      <td>0.000000</td>\n",
       "    </tr>\n",
       "    <tr>\n",
       "      <td>50%</td>\n",
       "      <td>0.000000</td>\n",
       "      <td>30.000000</td>\n",
       "      <td>40200.000000</td>\n",
       "      <td>1.000000</td>\n",
       "      <td>0.000000</td>\n",
       "    </tr>\n",
       "    <tr>\n",
       "      <td>75%</td>\n",
       "      <td>1.000000</td>\n",
       "      <td>37.000000</td>\n",
       "      <td>46600.000000</td>\n",
       "      <td>2.000000</td>\n",
       "      <td>0.000000</td>\n",
       "    </tr>\n",
       "    <tr>\n",
       "      <td>max</td>\n",
       "      <td>1.000000</td>\n",
       "      <td>65.000000</td>\n",
       "      <td>79000.000000</td>\n",
       "      <td>6.000000</td>\n",
       "      <td>5.000000</td>\n",
       "    </tr>\n",
       "  </tbody>\n",
       "</table>\n",
       "</div>"
      ],
      "text/plain": [
       "            gender          age        income  family_members  \\\n",
       "count  5000.000000  5000.000000   5000.000000     5000.000000   \n",
       "mean      0.499000    30.952800  39916.359375        1.194200   \n",
       "std       0.500049     8.440807   9900.083984        1.091387   \n",
       "min       0.000000    18.000000   5300.000000        0.000000   \n",
       "25%       0.000000    24.000000  33300.000000        0.000000   \n",
       "50%       0.000000    30.000000  40200.000000        1.000000   \n",
       "75%       1.000000    37.000000  46600.000000        2.000000   \n",
       "max       1.000000    65.000000  79000.000000        6.000000   \n",
       "\n",
       "       insurance_benefits  \n",
       "count         5000.000000  \n",
       "mean             0.148000  \n",
       "std              0.463183  \n",
       "min              0.000000  \n",
       "25%              0.000000  \n",
       "50%              0.000000  \n",
       "75%              0.000000  \n",
       "max              5.000000  "
      ]
     },
     "execution_count": 10,
     "metadata": {},
     "output_type": "execute_result"
    }
   ],
   "source": [
    "df.describe()"
   ]
  },
  {
   "cell_type": "markdown",
   "metadata": {},
   "source": [
    "The gender seems to be nearly an even split, which is likely a sampling choice. We have a range of 18 to 65 years old and a seemingly well represented group from the income. The number of family members seems to be more representative of individuals on plans without family members, but groups of up to 6 are still in the sample. The number of insurance benefits are skewed, where a majority of samples are zero, but up to 5 are observed."
   ]
  },
  {
   "cell_type": "markdown",
   "metadata": {},
   "source": [
    "## EDA"
   ]
  },
  {
   "cell_type": "markdown",
   "metadata": {},
   "source": [
    "Let's quickly check whether there are certain groups of customers by looking at the pair plot."
   ]
  },
  {
   "cell_type": "code",
   "execution_count": 11,
   "metadata": {},
   "outputs": [
    {
     "data": {
      "image/png": "[encoded data removed]",
      "text/plain": [
       "<Figure size 864x864 with 30 Axes>"
      ]
     },
     "metadata": {
      "needs_background": "light"
     },
     "output_type": "display_data"
    }
   ],
   "source": [
    "g = sns.pairplot(df)\n",
    "g.fig.set_size_inches(12, 12)"
   ]
  },
  {
   "cell_type": "markdown",
   "metadata": {},
   "source": [
    "Ok, it is a bit difficult to spot obvious groups (clusters) as it is difficult to combine several variables simultaneously (to analyze multivariate distributions). That's where LA and ML can be quite handy."
   ]
  },
  {
   "cell_type": "markdown",
   "metadata": {},
   "source": [
    "# Task 1. Similar Customers"
   ]
  },
  {
   "cell_type": "markdown",
   "metadata": {},
   "source": [
    "In the language of ML, it is necessary to develop a procedure that returns k nearest neighbors (objects) for a given object based on the distance between the objects.\n",
    "\n",
    "You may want to review the following lessons (chapter -> lesson)\n",
    "- Distance Between Vectors -> Euclidean Distance\n",
    "- Distance Between Vectors -> Manhattan Distance\n",
    "\n",
    "To solve the task, we can try different distance metrics."
   ]
  },
  {
   "cell_type": "markdown",
   "metadata": {},
   "source": [
    "Write a function that returns k nearest neighbors for an $n^{th}$ object based on a specified distance metric. The number of received insurance benefits should not be taken into account for this task. \n",
    "\n",
    "You can use a ready implementation of the kNN algorithm from scikit-learn (check [the link](https://scikit-learn.org/stable/modules/generated/sklearn.neighbors.NearestNeighbors.html#sklearn.neighbors.NearestNeighbors)) or use your own.\n",
    "\n",
    "Test it for four combination of two cases\n",
    "- Scaling\n",
    "  - the data is not scaled\n",
    "  - the data is scaled with the [MaxAbsScaler](https://scikit-learn.org/stable/modules/generated/sklearn.preprocessing.MaxAbsScaler.html) scaler\n",
    "- Distance Metrics\n",
    "  - Euclidean\n",
    "  - Manhattan\n",
    "\n",
    "Answer these questions:\n",
    "- Does the data being not scaled affect the kNN algorithm? If so, how does that appear?\n",
    "- How similar are the results using the Manhattan distance metric (regardless of the scaling)?"
   ]
  },
  {
   "cell_type": "code",
   "execution_count": 12,
   "metadata": {},
   "outputs": [],
   "source": [
    "feature_names = ['gender', 'age', 'income', 'family_members']"
   ]
  },
  {
   "cell_type": "code",
   "execution_count": 13,
   "metadata": {},
   "outputs": [],
   "source": [
    "def get_knn(df, n, k, metric):\n",
    "    \n",
    "    \"\"\"\n",
    "    Returns k nearest neighbors\n",
    "\n",
    "    :param df: pandas DataFrame used to find similar objects within\n",
    "    :param n: object no for which the nearest neighbours are looked for\n",
    "    :param k: the number of the nearest neighbours to return\n",
    "    :param metric: name of distance metric\n",
    "    \"\"\"\n",
    "\n",
    "    nbrs = nbr.NearestNeighbors(n_neighbors=k, metric=metric).fit(df[feature_names])\n",
    "    nbrs_distances, nbrs_indices = nbrs.kneighbors([df.iloc[n][feature_names]], k, return_distance=True)\n",
    "    \n",
    "    df_res = pd.concat([\n",
    "        df.iloc[nbrs_indices[0]], \n",
    "        pd.DataFrame(nbrs_distances.T, index=nbrs_indices[0], columns=['distance'])\n",
    "        ], axis=1)\n",
    "    \n",
    "    return df_res"
   ]
  },
  {
   "cell_type": "markdown",
   "metadata": {},
   "source": [
    "Scaling the data."
   ]
  },
  {
   "cell_type": "code",
   "execution_count": 14,
   "metadata": {},
   "outputs": [],
   "source": [
    "feature_names = ['gender', 'age', 'income', 'family_members']\n",
    "\n",
    "transformer_mas = sklearn.preprocessing.MaxAbsScaler().fit(df[feature_names].to_numpy())\n",
    "\n",
    "df_scaled = df.copy()\n",
    "df_scaled.loc[:, feature_names] = transformer_mas.transform(df[feature_names].to_numpy())"
   ]
  },
  {
   "cell_type": "code",
   "execution_count": 15,
   "metadata": {},
   "outputs": [
    {
     "data": {
      "text/html": [
       "<div>\n",
       "<style scoped>\n",
       "    .dataframe tbody tr th:only-of-type {\n",
       "        vertical-align: middle;\n",
       "    }\n",
       "\n",
       "    .dataframe tbody tr th {\n",
       "        vertical-align: top;\n",
       "    }\n",
       "\n",
       "    .dataframe thead th {\n",
       "        text-align: right;\n",
       "    }\n",
       "</style>\n",
       "<table border=\"1\" class=\"dataframe\">\n",
       "  <thead>\n",
       "    <tr style=\"text-align: right;\">\n",
       "      <th></th>\n",
       "      <th>gender</th>\n",
       "      <th>age</th>\n",
       "      <th>income</th>\n",
       "      <th>family_members</th>\n",
       "      <th>insurance_benefits</th>\n",
       "    </tr>\n",
       "  </thead>\n",
       "  <tbody>\n",
       "    <tr>\n",
       "      <td>2970</td>\n",
       "      <td>1.0</td>\n",
       "      <td>0.492308</td>\n",
       "      <td>0.216456</td>\n",
       "      <td>0.500000</td>\n",
       "      <td>0</td>\n",
       "    </tr>\n",
       "    <tr>\n",
       "      <td>2325</td>\n",
       "      <td>0.0</td>\n",
       "      <td>0.661538</td>\n",
       "      <td>0.326582</td>\n",
       "      <td>0.000000</td>\n",
       "      <td>1</td>\n",
       "    </tr>\n",
       "    <tr>\n",
       "      <td>2155</td>\n",
       "      <td>1.0</td>\n",
       "      <td>0.861538</td>\n",
       "      <td>0.511392</td>\n",
       "      <td>0.000000</td>\n",
       "      <td>3</td>\n",
       "    </tr>\n",
       "    <tr>\n",
       "      <td>2068</td>\n",
       "      <td>0.0</td>\n",
       "      <td>0.584615</td>\n",
       "      <td>0.559494</td>\n",
       "      <td>0.500000</td>\n",
       "      <td>0</td>\n",
       "    </tr>\n",
       "    <tr>\n",
       "      <td>3292</td>\n",
       "      <td>0.0</td>\n",
       "      <td>0.569231</td>\n",
       "      <td>0.546835</td>\n",
       "      <td>0.333333</td>\n",
       "      <td>0</td>\n",
       "    </tr>\n",
       "  </tbody>\n",
       "</table>\n",
       "</div>"
      ],
      "text/plain": [
       "      gender       age    income  family_members  insurance_benefits\n",
       "2970     1.0  0.492308  0.216456        0.500000                   0\n",
       "2325     0.0  0.661538  0.326582        0.000000                   1\n",
       "2155     1.0  0.861538  0.511392        0.000000                   3\n",
       "2068     0.0  0.584615  0.559494        0.500000                   0\n",
       "3292     0.0  0.569231  0.546835        0.333333                   0"
      ]
     },
     "execution_count": 15,
     "metadata": {},
     "output_type": "execute_result"
    }
   ],
   "source": [
    "df_scaled.sample(5)"
   ]
  },
  {
   "cell_type": "markdown",
   "metadata": {},
   "source": [
    "Now, let's get similar records for a given one for every combination"
   ]
  },
  {
   "cell_type": "code",
   "execution_count": 16,
   "metadata": {},
   "outputs": [
    {
     "data": {
      "text/html": [
       "<div>\n",
       "<style scoped>\n",
       "    .dataframe tbody tr th:only-of-type {\n",
       "        vertical-align: middle;\n",
       "    }\n",
       "\n",
       "    .dataframe tbody tr th {\n",
       "        vertical-align: top;\n",
       "    }\n",
       "\n",
       "    .dataframe thead th {\n",
       "        text-align: right;\n",
       "    }\n",
       "</style>\n",
       "<table border=\"1\" class=\"dataframe\">\n",
       "  <thead>\n",
       "    <tr style=\"text-align: right;\">\n",
       "      <th></th>\n",
       "      <th>gender</th>\n",
       "      <th>age</th>\n",
       "      <th>income</th>\n",
       "      <th>family_members</th>\n",
       "      <th>insurance_benefits</th>\n",
       "      <th>distance</th>\n",
       "    </tr>\n",
       "  </thead>\n",
       "  <tbody>\n",
       "    <tr>\n",
       "      <td>2000</td>\n",
       "      <td>0</td>\n",
       "      <td>34</td>\n",
       "      <td>29000.0</td>\n",
       "      <td>2</td>\n",
       "      <td>0</td>\n",
       "      <td>0.000000</td>\n",
       "    </tr>\n",
       "    <tr>\n",
       "      <td>1275</td>\n",
       "      <td>1</td>\n",
       "      <td>34</td>\n",
       "      <td>29000.0</td>\n",
       "      <td>1</td>\n",
       "      <td>0</td>\n",
       "      <td>1.414214</td>\n",
       "    </tr>\n",
       "    <tr>\n",
       "      <td>4385</td>\n",
       "      <td>1</td>\n",
       "      <td>36</td>\n",
       "      <td>29000.0</td>\n",
       "      <td>2</td>\n",
       "      <td>0</td>\n",
       "      <td>2.236068</td>\n",
       "    </tr>\n",
       "    <tr>\n",
       "      <td>310</td>\n",
       "      <td>0</td>\n",
       "      <td>36</td>\n",
       "      <td>29000.0</td>\n",
       "      <td>0</td>\n",
       "      <td>0</td>\n",
       "      <td>2.828427</td>\n",
       "    </tr>\n",
       "    <tr>\n",
       "      <td>1837</td>\n",
       "      <td>1</td>\n",
       "      <td>31</td>\n",
       "      <td>29000.0</td>\n",
       "      <td>2</td>\n",
       "      <td>0</td>\n",
       "      <td>3.162278</td>\n",
       "    </tr>\n",
       "    <tr>\n",
       "      <td>273</td>\n",
       "      <td>1</td>\n",
       "      <td>39</td>\n",
       "      <td>29000.0</td>\n",
       "      <td>3</td>\n",
       "      <td>0</td>\n",
       "      <td>5.196152</td>\n",
       "    </tr>\n",
       "    <tr>\n",
       "      <td>4638</td>\n",
       "      <td>1</td>\n",
       "      <td>28</td>\n",
       "      <td>29000.0</td>\n",
       "      <td>1</td>\n",
       "      <td>0</td>\n",
       "      <td>6.164414</td>\n",
       "    </tr>\n",
       "    <tr>\n",
       "      <td>4637</td>\n",
       "      <td>0</td>\n",
       "      <td>41</td>\n",
       "      <td>29000.0</td>\n",
       "      <td>2</td>\n",
       "      <td>0</td>\n",
       "      <td>7.000000</td>\n",
       "    </tr>\n",
       "    <tr>\n",
       "      <td>1544</td>\n",
       "      <td>0</td>\n",
       "      <td>25</td>\n",
       "      <td>29000.0</td>\n",
       "      <td>1</td>\n",
       "      <td>0</td>\n",
       "      <td>9.055385</td>\n",
       "    </tr>\n",
       "    <tr>\n",
       "      <td>4461</td>\n",
       "      <td>1</td>\n",
       "      <td>43</td>\n",
       "      <td>29000.0</td>\n",
       "      <td>1</td>\n",
       "      <td>1</td>\n",
       "      <td>9.110434</td>\n",
       "    </tr>\n",
       "  </tbody>\n",
       "</table>\n",
       "</div>"
      ],
      "text/plain": [
       "      gender  age   income  family_members  insurance_benefits  distance\n",
       "2000       0   34  29000.0               2                   0  0.000000\n",
       "1275       1   34  29000.0               1                   0  1.414214\n",
       "4385       1   36  29000.0               2                   0  2.236068\n",
       "310        0   36  29000.0               0                   0  2.828427\n",
       "1837       1   31  29000.0               2                   0  3.162278\n",
       "273        1   39  29000.0               3                   0  5.196152\n",
       "4638       1   28  29000.0               1                   0  6.164414\n",
       "4637       0   41  29000.0               2                   0  7.000000\n",
       "1544       0   25  29000.0               1                   0  9.055385\n",
       "4461       1   43  29000.0               1                   1  9.110434"
      ]
     },
     "execution_count": 16,
     "metadata": {},
     "output_type": "execute_result"
    }
   ],
   "source": [
    "get_knn(df, 2000, 10, 'euclidean')"
   ]
  },
  {
   "cell_type": "code",
   "execution_count": 17,
   "metadata": {},
   "outputs": [
    {
     "data": {
      "text/html": [
       "<div>\n",
       "<style scoped>\n",
       "    .dataframe tbody tr th:only-of-type {\n",
       "        vertical-align: middle;\n",
       "    }\n",
       "\n",
       "    .dataframe tbody tr th {\n",
       "        vertical-align: top;\n",
       "    }\n",
       "\n",
       "    .dataframe thead th {\n",
       "        text-align: right;\n",
       "    }\n",
       "</style>\n",
       "<table border=\"1\" class=\"dataframe\">\n",
       "  <thead>\n",
       "    <tr style=\"text-align: right;\">\n",
       "      <th></th>\n",
       "      <th>gender</th>\n",
       "      <th>age</th>\n",
       "      <th>income</th>\n",
       "      <th>family_members</th>\n",
       "      <th>insurance_benefits</th>\n",
       "      <th>distance</th>\n",
       "    </tr>\n",
       "  </thead>\n",
       "  <tbody>\n",
       "    <tr>\n",
       "      <td>2000</td>\n",
       "      <td>0.0</td>\n",
       "      <td>0.523077</td>\n",
       "      <td>0.367089</td>\n",
       "      <td>0.333333</td>\n",
       "      <td>0</td>\n",
       "      <td>0.000000</td>\n",
       "    </tr>\n",
       "    <tr>\n",
       "      <td>3936</td>\n",
       "      <td>0.0</td>\n",
       "      <td>0.538462</td>\n",
       "      <td>0.370886</td>\n",
       "      <td>0.333333</td>\n",
       "      <td>0</td>\n",
       "      <td>0.015846</td>\n",
       "    </tr>\n",
       "    <tr>\n",
       "      <td>4780</td>\n",
       "      <td>0.0</td>\n",
       "      <td>0.507692</td>\n",
       "      <td>0.360759</td>\n",
       "      <td>0.333333</td>\n",
       "      <td>0</td>\n",
       "      <td>0.016636</td>\n",
       "    </tr>\n",
       "    <tr>\n",
       "      <td>3608</td>\n",
       "      <td>0.0</td>\n",
       "      <td>0.538462</td>\n",
       "      <td>0.374684</td>\n",
       "      <td>0.333333</td>\n",
       "      <td>0</td>\n",
       "      <td>0.017157</td>\n",
       "    </tr>\n",
       "    <tr>\n",
       "      <td>2931</td>\n",
       "      <td>0.0</td>\n",
       "      <td>0.523077</td>\n",
       "      <td>0.348101</td>\n",
       "      <td>0.333333</td>\n",
       "      <td>0</td>\n",
       "      <td>0.018987</td>\n",
       "    </tr>\n",
       "    <tr>\n",
       "      <td>175</td>\n",
       "      <td>0.0</td>\n",
       "      <td>0.507692</td>\n",
       "      <td>0.387342</td>\n",
       "      <td>0.333333</td>\n",
       "      <td>0</td>\n",
       "      <td>0.025434</td>\n",
       "    </tr>\n",
       "    <tr>\n",
       "      <td>4783</td>\n",
       "      <td>0.0</td>\n",
       "      <td>0.523077</td>\n",
       "      <td>0.393671</td>\n",
       "      <td>0.333333</td>\n",
       "      <td>0</td>\n",
       "      <td>0.026582</td>\n",
       "    </tr>\n",
       "    <tr>\n",
       "      <td>3921</td>\n",
       "      <td>0.0</td>\n",
       "      <td>0.507692</td>\n",
       "      <td>0.340506</td>\n",
       "      <td>0.333333</td>\n",
       "      <td>0</td>\n",
       "      <td>0.030713</td>\n",
       "    </tr>\n",
       "    <tr>\n",
       "      <td>3333</td>\n",
       "      <td>0.0</td>\n",
       "      <td>0.553846</td>\n",
       "      <td>0.375949</td>\n",
       "      <td>0.333333</td>\n",
       "      <td>0</td>\n",
       "      <td>0.032020</td>\n",
       "    </tr>\n",
       "    <tr>\n",
       "      <td>2519</td>\n",
       "      <td>0.0</td>\n",
       "      <td>0.553846</td>\n",
       "      <td>0.375949</td>\n",
       "      <td>0.333333</td>\n",
       "      <td>0</td>\n",
       "      <td>0.032020</td>\n",
       "    </tr>\n",
       "  </tbody>\n",
       "</table>\n",
       "</div>"
      ],
      "text/plain": [
       "      gender       age    income  family_members  insurance_benefits  distance\n",
       "2000     0.0  0.523077  0.367089        0.333333                   0  0.000000\n",
       "3936     0.0  0.538462  0.370886        0.333333                   0  0.015846\n",
       "4780     0.0  0.507692  0.360759        0.333333                   0  0.016636\n",
       "3608     0.0  0.538462  0.374684        0.333333                   0  0.017157\n",
       "2931     0.0  0.523077  0.348101        0.333333                   0  0.018987\n",
       "175      0.0  0.507692  0.387342        0.333333                   0  0.025434\n",
       "4783     0.0  0.523077  0.393671        0.333333                   0  0.026582\n",
       "3921     0.0  0.507692  0.340506        0.333333                   0  0.030713\n",
       "3333     0.0  0.553846  0.375949        0.333333                   0  0.032020\n",
       "2519     0.0  0.553846  0.375949        0.333333                   0  0.032020"
      ]
     },
     "execution_count": 17,
     "metadata": {},
     "output_type": "execute_result"
    }
   ],
   "source": [
    "get_knn(df_scaled, 2000, 10, 'euclidean')"
   ]
  },
  {
   "cell_type": "code",
   "execution_count": 18,
   "metadata": {},
   "outputs": [
    {
     "data": {
      "text/html": [
       "<div>\n",
       "<style scoped>\n",
       "    .dataframe tbody tr th:only-of-type {\n",
       "        vertical-align: middle;\n",
       "    }\n",
       "\n",
       "    .dataframe tbody tr th {\n",
       "        vertical-align: top;\n",
       "    }\n",
       "\n",
       "    .dataframe thead th {\n",
       "        text-align: right;\n",
       "    }\n",
       "</style>\n",
       "<table border=\"1\" class=\"dataframe\">\n",
       "  <thead>\n",
       "    <tr style=\"text-align: right;\">\n",
       "      <th></th>\n",
       "      <th>gender</th>\n",
       "      <th>age</th>\n",
       "      <th>income</th>\n",
       "      <th>family_members</th>\n",
       "      <th>insurance_benefits</th>\n",
       "      <th>distance</th>\n",
       "    </tr>\n",
       "  </thead>\n",
       "  <tbody>\n",
       "    <tr>\n",
       "      <td>2000</td>\n",
       "      <td>0</td>\n",
       "      <td>34</td>\n",
       "      <td>29000.0</td>\n",
       "      <td>2</td>\n",
       "      <td>0</td>\n",
       "      <td>0.0</td>\n",
       "    </tr>\n",
       "    <tr>\n",
       "      <td>1275</td>\n",
       "      <td>1</td>\n",
       "      <td>34</td>\n",
       "      <td>29000.0</td>\n",
       "      <td>1</td>\n",
       "      <td>0</td>\n",
       "      <td>2.0</td>\n",
       "    </tr>\n",
       "    <tr>\n",
       "      <td>4385</td>\n",
       "      <td>1</td>\n",
       "      <td>36</td>\n",
       "      <td>29000.0</td>\n",
       "      <td>2</td>\n",
       "      <td>0</td>\n",
       "      <td>3.0</td>\n",
       "    </tr>\n",
       "    <tr>\n",
       "      <td>310</td>\n",
       "      <td>0</td>\n",
       "      <td>36</td>\n",
       "      <td>29000.0</td>\n",
       "      <td>0</td>\n",
       "      <td>0</td>\n",
       "      <td>4.0</td>\n",
       "    </tr>\n",
       "    <tr>\n",
       "      <td>1837</td>\n",
       "      <td>1</td>\n",
       "      <td>31</td>\n",
       "      <td>29000.0</td>\n",
       "      <td>2</td>\n",
       "      <td>0</td>\n",
       "      <td>4.0</td>\n",
       "    </tr>\n",
       "    <tr>\n",
       "      <td>4637</td>\n",
       "      <td>0</td>\n",
       "      <td>41</td>\n",
       "      <td>29000.0</td>\n",
       "      <td>2</td>\n",
       "      <td>0</td>\n",
       "      <td>7.0</td>\n",
       "    </tr>\n",
       "    <tr>\n",
       "      <td>273</td>\n",
       "      <td>1</td>\n",
       "      <td>39</td>\n",
       "      <td>29000.0</td>\n",
       "      <td>3</td>\n",
       "      <td>0</td>\n",
       "      <td>7.0</td>\n",
       "    </tr>\n",
       "    <tr>\n",
       "      <td>4638</td>\n",
       "      <td>1</td>\n",
       "      <td>28</td>\n",
       "      <td>29000.0</td>\n",
       "      <td>1</td>\n",
       "      <td>0</td>\n",
       "      <td>8.0</td>\n",
       "    </tr>\n",
       "    <tr>\n",
       "      <td>1544</td>\n",
       "      <td>0</td>\n",
       "      <td>25</td>\n",
       "      <td>29000.0</td>\n",
       "      <td>1</td>\n",
       "      <td>0</td>\n",
       "      <td>10.0</td>\n",
       "    </tr>\n",
       "    <tr>\n",
       "      <td>4441</td>\n",
       "      <td>0</td>\n",
       "      <td>24</td>\n",
       "      <td>29000.0</td>\n",
       "      <td>1</td>\n",
       "      <td>0</td>\n",
       "      <td>11.0</td>\n",
       "    </tr>\n",
       "  </tbody>\n",
       "</table>\n",
       "</div>"
      ],
      "text/plain": [
       "      gender  age   income  family_members  insurance_benefits  distance\n",
       "2000       0   34  29000.0               2                   0       0.0\n",
       "1275       1   34  29000.0               1                   0       2.0\n",
       "4385       1   36  29000.0               2                   0       3.0\n",
       "310        0   36  29000.0               0                   0       4.0\n",
       "1837       1   31  29000.0               2                   0       4.0\n",
       "4637       0   41  29000.0               2                   0       7.0\n",
       "273        1   39  29000.0               3                   0       7.0\n",
       "4638       1   28  29000.0               1                   0       8.0\n",
       "1544       0   25  29000.0               1                   0      10.0\n",
       "4441       0   24  29000.0               1                   0      11.0"
      ]
     },
     "execution_count": 18,
     "metadata": {},
     "output_type": "execute_result"
    }
   ],
   "source": [
    "get_knn(df, 2000, 10, 'manhattan')"
   ]
  },
  {
   "cell_type": "code",
   "execution_count": 19,
   "metadata": {},
   "outputs": [
    {
     "data": {
      "text/html": [
       "<div>\n",
       "<style scoped>\n",
       "    .dataframe tbody tr th:only-of-type {\n",
       "        vertical-align: middle;\n",
       "    }\n",
       "\n",
       "    .dataframe tbody tr th {\n",
       "        vertical-align: top;\n",
       "    }\n",
       "\n",
       "    .dataframe thead th {\n",
       "        text-align: right;\n",
       "    }\n",
       "</style>\n",
       "<table border=\"1\" class=\"dataframe\">\n",
       "  <thead>\n",
       "    <tr style=\"text-align: right;\">\n",
       "      <th></th>\n",
       "      <th>gender</th>\n",
       "      <th>age</th>\n",
       "      <th>income</th>\n",
       "      <th>family_members</th>\n",
       "      <th>insurance_benefits</th>\n",
       "      <th>distance</th>\n",
       "    </tr>\n",
       "  </thead>\n",
       "  <tbody>\n",
       "    <tr>\n",
       "      <td>2000</td>\n",
       "      <td>0.0</td>\n",
       "      <td>0.523077</td>\n",
       "      <td>0.367089</td>\n",
       "      <td>0.333333</td>\n",
       "      <td>0</td>\n",
       "      <td>0.000000</td>\n",
       "    </tr>\n",
       "    <tr>\n",
       "      <td>2931</td>\n",
       "      <td>0.0</td>\n",
       "      <td>0.523077</td>\n",
       "      <td>0.348101</td>\n",
       "      <td>0.333333</td>\n",
       "      <td>0</td>\n",
       "      <td>0.018987</td>\n",
       "    </tr>\n",
       "    <tr>\n",
       "      <td>3936</td>\n",
       "      <td>0.0</td>\n",
       "      <td>0.538462</td>\n",
       "      <td>0.370886</td>\n",
       "      <td>0.333333</td>\n",
       "      <td>0</td>\n",
       "      <td>0.019182</td>\n",
       "    </tr>\n",
       "    <tr>\n",
       "      <td>4780</td>\n",
       "      <td>0.0</td>\n",
       "      <td>0.507692</td>\n",
       "      <td>0.360759</td>\n",
       "      <td>0.333333</td>\n",
       "      <td>0</td>\n",
       "      <td>0.021714</td>\n",
       "    </tr>\n",
       "    <tr>\n",
       "      <td>3608</td>\n",
       "      <td>0.0</td>\n",
       "      <td>0.538462</td>\n",
       "      <td>0.374684</td>\n",
       "      <td>0.333333</td>\n",
       "      <td>0</td>\n",
       "      <td>0.022980</td>\n",
       "    </tr>\n",
       "    <tr>\n",
       "      <td>4783</td>\n",
       "      <td>0.0</td>\n",
       "      <td>0.523077</td>\n",
       "      <td>0.393671</td>\n",
       "      <td>0.333333</td>\n",
       "      <td>0</td>\n",
       "      <td>0.026582</td>\n",
       "    </tr>\n",
       "    <tr>\n",
       "      <td>175</td>\n",
       "      <td>0.0</td>\n",
       "      <td>0.507692</td>\n",
       "      <td>0.387342</td>\n",
       "      <td>0.333333</td>\n",
       "      <td>0</td>\n",
       "      <td>0.035638</td>\n",
       "    </tr>\n",
       "    <tr>\n",
       "      <td>3333</td>\n",
       "      <td>0.0</td>\n",
       "      <td>0.553846</td>\n",
       "      <td>0.375949</td>\n",
       "      <td>0.333333</td>\n",
       "      <td>0</td>\n",
       "      <td>0.039630</td>\n",
       "    </tr>\n",
       "    <tr>\n",
       "      <td>2519</td>\n",
       "      <td>0.0</td>\n",
       "      <td>0.553846</td>\n",
       "      <td>0.375949</td>\n",
       "      <td>0.333333</td>\n",
       "      <td>0</td>\n",
       "      <td>0.039630</td>\n",
       "    </tr>\n",
       "    <tr>\n",
       "      <td>1894</td>\n",
       "      <td>0.0</td>\n",
       "      <td>0.553846</td>\n",
       "      <td>0.358228</td>\n",
       "      <td>0.333333</td>\n",
       "      <td>0</td>\n",
       "      <td>0.039630</td>\n",
       "    </tr>\n",
       "  </tbody>\n",
       "</table>\n",
       "</div>"
      ],
      "text/plain": [
       "      gender       age    income  family_members  insurance_benefits  distance\n",
       "2000     0.0  0.523077  0.367089        0.333333                   0  0.000000\n",
       "2931     0.0  0.523077  0.348101        0.333333                   0  0.018987\n",
       "3936     0.0  0.538462  0.370886        0.333333                   0  0.019182\n",
       "4780     0.0  0.507692  0.360759        0.333333                   0  0.021714\n",
       "3608     0.0  0.538462  0.374684        0.333333                   0  0.022980\n",
       "4783     0.0  0.523077  0.393671        0.333333                   0  0.026582\n",
       "175      0.0  0.507692  0.387342        0.333333                   0  0.035638\n",
       "3333     0.0  0.553846  0.375949        0.333333                   0  0.039630\n",
       "2519     0.0  0.553846  0.375949        0.333333                   0  0.039630\n",
       "1894     0.0  0.553846  0.358228        0.333333                   0  0.039630"
      ]
     },
     "execution_count": 19,
     "metadata": {},
     "output_type": "execute_result"
    }
   ],
   "source": [
    "get_knn(df_scaled, 2000, 10, 'manhattan')"
   ]
  },
  {
   "cell_type": "code",
   "execution_count": null,
   "metadata": {},
   "outputs": [],
   "source": []
  },
  {
   "cell_type": "markdown",
   "metadata": {},
   "source": [
    "Answers to the questions"
   ]
  },
  {
   "cell_type": "markdown",
   "metadata": {},
   "source": [
    "**Does the data being not scaled affect the kNN algorithm? If so, how does that appear?** \n",
    "\n",
    "Depending on the units, the scaling can significantly affect the kNN algorithm. In a typical coordinate system, the kNN algorithm sees the distance between one customer's gender to another a maximum distance of 1. This means that changing gender has the nearly the same impact as someone who has, for example, a salary of 29000 and another person making 29001."
   ]
  },
  {
   "cell_type": "markdown",
   "metadata": {},
   "source": [
    "**How similar are the results using the Manhattan distance metric (regardless of the scaling)?** \n",
    "\n",
    "The results are very similar between the euclidean and manhattan distance metrics. In the 10 returned samples, they share nearly identical results, but sometimes the order is a bit different. This makes sense, as one is the square root of the sums of the squares of the distances, and the other is just the sums of the distances. With only 4 features, the distance metric does not change much. But with many more features, this may not be the case."
   ]
  },
  {
   "cell_type": "markdown",
   "metadata": {},
   "source": [
    "# Task 2. Is Customer Likely to Receive Insurance Benefit?"
   ]
  },
  {
   "cell_type": "markdown",
   "metadata": {},
   "source": [
    "In terms of machine learning we can look at this like a binary classification task."
   ]
  },
  {
   "cell_type": "markdown",
   "metadata": {},
   "source": [
    "With `insurance_benefits` being more than zero as the target, evaluate whether the kNN classification approach can do better than a dummy model.\n",
    "\n",
    "Instructions:\n",
    "- Build a KNN-based classifier and measure its quality with the F1 metric for k=1..10 for both the original data and the scaled one. That'd be interesting to see how k may influece the evaluation metric, and whether scaling the data makes any difference. You can use a ready implemention of the kNN classification algorithm from scikit-learn (check [the link](https://scikit-learn.org/stable/modules/generated/sklearn.neighbors.KNeighborsClassifier.html)) or use your own.\n",
    "- Build the dummy model which is just random for this case. It should return \"1\" with some probability. Let's test the model with four probability values: 0, the probability of paying any insurance benefit, 0.5, 1.\n",
    "\n",
    "The probability of paying any insurance benefit can be defined as\n",
    "\n",
    "$$\n",
    "P\\{\\text{insurance benefit received}\\}=\\frac{\\text{number of clients received any insurance benefit}}{\\text{total number of clients}}.\n",
    "$$\n",
    "\n",
    "Split the whole data in the 70:30 proportion for the training/testing parts."
   ]
  },
  {
   "cell_type": "code",
   "execution_count": 20,
   "metadata": {},
   "outputs": [],
   "source": [
    "# calculate the target\n",
    "\n",
    "df['insurance_benefits_received'] = df['insurance_benefits'].where(df['insurance_benefits'] < 1, 1)"
   ]
  },
  {
   "cell_type": "code",
   "execution_count": 21,
   "metadata": {},
   "outputs": [
    {
     "data": {
      "text/plain": [
       "0    4436\n",
       "1     564\n",
       "Name: insurance_benefits_received, dtype: int64"
      ]
     },
     "execution_count": 21,
     "metadata": {},
     "output_type": "execute_result"
    }
   ],
   "source": [
    "# check for the class imbalance with value_counts()\n",
    "\n",
    "df['insurance_benefits_received'].value_counts()"
   ]
  },
  {
   "cell_type": "code",
   "execution_count": 22,
   "metadata": {},
   "outputs": [],
   "source": [
    "def eval_classifier(y_true, y_pred):\n",
    "    \n",
    "    f1_score = sklearn.metrics.f1_score(y_true, y_pred)\n",
    "    print(f'F1: {f1_score:.2f}')\n",
    "    \n",
    "    cm = sklearn.metrics.confusion_matrix(y_true, y_pred)\n",
    "    print('Confusion Matrix')\n",
    "    print(cm)"
   ]
  },
  {
   "cell_type": "code",
   "execution_count": 23,
   "metadata": {},
   "outputs": [],
   "source": [
    "# generating output of a random model\n",
    "\n",
    "def rnd_model_predict(P, size, seed=42):\n",
    "\n",
    "    rng = np.random.default_rng(seed=seed)\n",
    "    return rng.binomial(n=1, p=P, size=size)"
   ]
  },
  {
   "cell_type": "code",
   "execution_count": 24,
   "metadata": {
    "scrolled": false
   },
   "outputs": [
    {
     "name": "stdout",
     "output_type": "stream",
     "text": [
      "The probability: 0.00\n",
      "F1: 0.00\n",
      "Confusion Matrix\n",
      "[[4436    0]\n",
      " [ 564    0]]\n",
      "\n",
      "The probability: 0.11\n",
      "F1: 0.12\n",
      "Confusion Matrix\n",
      "[[3957  479]\n",
      " [ 497   67]]\n",
      "\n",
      "The probability: 0.50\n",
      "F1: 0.20\n",
      "Confusion Matrix\n",
      "[[2280 2156]\n",
      " [ 265  299]]\n",
      "\n",
      "The probability: 1.00\n",
      "F1: 0.20\n",
      "Confusion Matrix\n",
      "[[   0 4436]\n",
      " [   0  564]]\n",
      "\n"
     ]
    },
    {
     "name": "stderr",
     "output_type": "stream",
     "text": [
      "/opt/conda/lib/python3.7/site-packages/sklearn/metrics/classification.py:1437: UndefinedMetricWarning: F-score is ill-defined and being set to 0.0 due to no predicted samples.\n",
      "  'precision', 'predicted', average, warn_for)\n"
     ]
    }
   ],
   "source": [
    "for P in [0, df['insurance_benefits_received'].sum() / len(df), 0.5, 1]:\n",
    "\n",
    "    print(f'The probability: {P:.2f}')\n",
    "    y_pred_rnd = rnd_model_predict(P, 5000)\n",
    "        \n",
    "    eval_classifier(df['insurance_benefits_received'], y_pred_rnd)\n",
    "    \n",
    "    print()"
   ]
  },
  {
   "cell_type": "markdown",
   "metadata": {},
   "source": [
    "The best F1 we could get with a dummy model is .20. Let's see what a kNN Model can do for us."
   ]
  },
  {
   "cell_type": "code",
   "execution_count": 25,
   "metadata": {},
   "outputs": [],
   "source": [
    "def run_knn(features_train, target_train, features_test, target_test, k, metric):\n",
    "    features_train = features_train.reset_index(drop=True)\n",
    "    target_train = target_train.reset_index(drop=True)\n",
    "    features_test = features_test.reset_index(drop=True)\n",
    "    target_test = target_test.reset_index(drop=True)\n",
    "    \n",
    "    \"\"\"\n",
    "    Prints the f1 score and confusion matrix for the KNN Classifier\n",
    "\n",
    "    :param df: pandas DataFrame used to find similar objects within\n",
    "    :param n: object no for which the nearest neighbours are looked for\n",
    "    :param k: the number of the nearest neighbours to return\n",
    "    :param metric: name of distance metric\n",
    "    \"\"\"\n",
    "\n",
    "    \n",
    "    neigh = KNeighborsClassifier(n_neighbors=k, metric=metric)\n",
    "    neigh.fit(features_train, target_train)\n",
    "    preds = neigh.predict(features_test)        \n",
    "    print('k:', k)\n",
    "    print(eval_classifier(target_test, preds))"
   ]
  },
  {
   "cell_type": "code",
   "execution_count": 26,
   "metadata": {},
   "outputs": [],
   "source": [
    "features = df[feature_names]\n",
    "target = df['insurance_benefits_received']\n",
    "X_train, X_test, y_train, y_test = train_test_split(features, target, test_size=0.3, random_state=42)"
   ]
  },
  {
   "cell_type": "code",
   "execution_count": 27,
   "metadata": {},
   "outputs": [
    {
     "name": "stdout",
     "output_type": "stream",
     "text": [
      "k: 1\n",
      "F1: 0.65\n",
      "Confusion Matrix\n",
      "[[1312   27]\n",
      " [  70   91]]\n",
      "None\n",
      "k: 2\n",
      "F1: 0.38\n",
      "Confusion Matrix\n",
      "[[1336    3]\n",
      " [ 123   38]]\n",
      "None\n",
      "k: 3\n",
      "F1: 0.39\n",
      "Confusion Matrix\n",
      "[[1325   14]\n",
      " [ 119   42]]\n",
      "None\n",
      "k: 4\n",
      "F1: 0.16\n",
      "Confusion Matrix\n",
      "[[1334    5]\n",
      " [ 147   14]]\n",
      "None\n",
      "k: 5\n",
      "F1: 0.17\n",
      "Confusion Matrix\n",
      "[[1325   14]\n",
      " [ 145   16]]\n",
      "None\n",
      "k: 6\n",
      "F1: 0.09\n",
      "Confusion Matrix\n",
      "[[1338    1]\n",
      " [ 153    8]]\n",
      "None\n",
      "k: 7\n",
      "F1: 0.12\n",
      "Confusion Matrix\n",
      "[[1337    2]\n",
      " [ 151   10]]\n",
      "None\n",
      "k: 8\n",
      "F1: 0.02\n",
      "Confusion Matrix\n",
      "[[1339    0]\n",
      " [ 159    2]]\n",
      "None\n",
      "k: 9\n",
      "F1: 0.04\n",
      "Confusion Matrix\n",
      "[[1339    0]\n",
      " [ 158    3]]\n",
      "None\n",
      "k: 10\n",
      "F1: 0.04\n",
      "Confusion Matrix\n",
      "[[1339    0]\n",
      " [ 158    3]]\n",
      "None\n"
     ]
    }
   ],
   "source": [
    "for k in range(1,11):\n",
    "    run_knn(X_train, y_train, X_test, y_test, k, 'euclidean')"
   ]
  },
  {
   "cell_type": "code",
   "execution_count": 28,
   "metadata": {},
   "outputs": [],
   "source": [
    "features = df_scaled[feature_names]\n",
    "target = df['insurance_benefits_received']\n",
    "X_train, X_test, y_train, y_test = train_test_split(features, target, test_size=0.3, random_state=42)"
   ]
  },
  {
   "cell_type": "code",
   "execution_count": 29,
   "metadata": {},
   "outputs": [
    {
     "name": "stdout",
     "output_type": "stream",
     "text": [
      "k: 1\n",
      "F1: 0.93\n",
      "Confusion Matrix\n",
      "[[1332    7]\n",
      " [  14  147]]\n",
      "None\n",
      "k: 2\n",
      "F1: 0.92\n",
      "Confusion Matrix\n",
      "[[1336    3]\n",
      " [  22  139]]\n",
      "None\n",
      "k: 3\n",
      "F1: 0.94\n",
      "Confusion Matrix\n",
      "[[1334    5]\n",
      " [  14  147]]\n",
      "None\n",
      "k: 4\n",
      "F1: 0.91\n",
      "Confusion Matrix\n",
      "[[1337    2]\n",
      " [  24  137]]\n",
      "None\n",
      "k: 5\n",
      "F1: 0.94\n",
      "Confusion Matrix\n",
      "[[1334    5]\n",
      " [  15  146]]\n",
      "None\n",
      "k: 6\n",
      "F1: 0.91\n",
      "Confusion Matrix\n",
      "[[1337    2]\n",
      " [  26  135]]\n",
      "None\n",
      "k: 7\n",
      "F1: 0.93\n",
      "Confusion Matrix\n",
      "[[1335    4]\n",
      " [  18  143]]\n",
      "None\n",
      "k: 8\n",
      "F1: 0.91\n",
      "Confusion Matrix\n",
      "[[1338    1]\n",
      " [  25  136]]\n",
      "None\n",
      "k: 9\n",
      "F1: 0.93\n",
      "Confusion Matrix\n",
      "[[1337    2]\n",
      " [  19  142]]\n",
      "None\n",
      "k: 10\n",
      "F1: 0.91\n",
      "Confusion Matrix\n",
      "[[1338    1]\n",
      " [  25  136]]\n",
      "None\n"
     ]
    }
   ],
   "source": [
    "for k in range(1,11):\n",
    "    run_knn(X_train, y_train, X_test, y_test, k, 'euclidean')"
   ]
  },
  {
   "cell_type": "markdown",
   "metadata": {},
   "source": [
    "Both the scaled and not scaled data produced a better f1 score with the kNN model than the dummy model. However, the scaled data performed exceptionally well, getting f1 scores of 0.94 while the unscaled data got a score of 0.65."
   ]
  },
  {
   "cell_type": "markdown",
   "metadata": {},
   "source": [
    "# Task 3. Regression (with Linear Regression)"
   ]
  },
  {
   "cell_type": "markdown",
   "metadata": {},
   "source": [
    "With `insurance_benefits` as the target, evaluate what RMSE would be for a Linear Regression model."
   ]
  },
  {
   "cell_type": "markdown",
   "metadata": {},
   "source": [
    "Build your own implementation of LR. For that, recall how the linear regression task's solution is formulated in terms of LA. Check RMSE for both the original data and the scaled one. Can you see any difference in RMSE between these two cases?\n",
    "\n",
    "Let's denote\n",
    "- $X$ — feature matrix, each row is a case, each column is a feature, the first column consists of unities\n",
    "- $y$ — target (a vector)\n",
    "- $\\hat{y}$ — estimated target (a vector)\n",
    "- $w$ — weight vector\n",
    "\n",
    "The task of linear regression in the language of matrices can be formulated as\n",
    "\n",
    "$$\n",
    "y = Xw\n",
    "$$\n",
    "\n",
    "The training objective then is to find such $w$ that it would minimize the L2-distance (MSE) between $Xw$ and $y$:\n",
    "\n",
    "$$\n",
    "\\min_w d_2(Xw, y) \\quad \\text{or} \\quad \\min_w \\text{MSE}(Xw, y)\n",
    "$$\n",
    "\n",
    "It appears that there is analytical solution for the above:\n",
    "\n",
    "$$\n",
    "w = (X^T X)^{-1} X^T y\n",
    "$$\n",
    "\n",
    "The formula above can be used to find the weights $w$ and the latter can be used to calculate predicted values\n",
    "\n",
    "$$\n",
    "\\hat{y} = X_{val}w\n",
    "$$"
   ]
  },
  {
   "cell_type": "markdown",
   "metadata": {},
   "source": [
    "Split the whole data in the 70:30 proportion for the training/validation parts. Use the RMSE metric for the model evaluation."
   ]
  },
  {
   "cell_type": "code",
   "execution_count": 30,
   "metadata": {},
   "outputs": [],
   "source": [
    "class MyLinearRegression:\n",
    "    \n",
    "    def __init__(self):\n",
    "        \n",
    "        self.weights = None\n",
    "    \n",
    "    def fit(self, X, y):\n",
    "        \n",
    "        # adding the unities\n",
    "        X2 = np.append(np.ones([len(X), 1]), X, axis=1)\n",
    "        self.weights = ((np.linalg.inv(X2.T @ X2)) @ (X2.T)) @ y\n",
    "\n",
    "    def predict(self, X):\n",
    "        \n",
    "        # adding the unities\n",
    "        X2 = X @ (self.weights[1:])\n",
    "        y_pred = X2 + self.weights[0]\n",
    "        \n",
    "        return y_pred"
   ]
  },
  {
   "cell_type": "code",
   "execution_count": 31,
   "metadata": {},
   "outputs": [],
   "source": [
    "def eval_regressor(y_true, y_pred):\n",
    "    \n",
    "    rmse = math.sqrt(sklearn.metrics.mean_squared_error(y_true, y_pred))\n",
    "    print(f'RMSE: {rmse:.2f}')\n",
    "    \n",
    "    r2_score = math.sqrt(sklearn.metrics.r2_score(y_true, y_pred))\n",
    "    print(f'R2: {r2_score:.2f}')    "
   ]
  },
  {
   "cell_type": "code",
   "execution_count": 32,
   "metadata": {},
   "outputs": [
    {
     "name": "stdout",
     "output_type": "stream",
     "text": [
      "[-9.43539012e-01  3.57495491e-02  1.64272726e-02 -2.60743659e-07\n",
      " -1.16902127e-02]\n",
      "RMSE: 0.34\n",
      "R2: 0.66\n"
     ]
    }
   ],
   "source": [
    "X = df[['age', 'gender', 'income', 'family_members']].to_numpy()\n",
    "y = df['insurance_benefits'].to_numpy()\n",
    "\n",
    "X_train, X_test, y_train, y_test = train_test_split(X, y, test_size=0.3, random_state=12345)\n",
    "\n",
    "lr = MyLinearRegression()\n",
    "\n",
    "lr.fit(X_train, y_train)\n",
    "print(lr.weights)\n",
    "\n",
    "y_test_pred = lr.predict(X_test)\n",
    "eval_regressor(y_test, y_test_pred)"
   ]
  },
  {
   "cell_type": "code",
   "execution_count": 33,
   "metadata": {},
   "outputs": [
    {
     "name": "stdout",
     "output_type": "stream",
     "text": [
      "[-0.94353898  2.32372055  0.01642727 -0.02059874 -0.07014128]\n",
      "RMSE: 0.34\n",
      "R2: 0.66\n"
     ]
    }
   ],
   "source": [
    "X = df_scaled[['age', 'gender', 'income', 'family_members']].to_numpy()\n",
    "y = df_scaled['insurance_benefits'].to_numpy()\n",
    "\n",
    "X_train, X_test, y_train, y_test = train_test_split(X, y, test_size=0.3, random_state=12345)\n",
    "\n",
    "lr = MyLinearRegression()\n",
    "\n",
    "lr.fit(X_train, y_train)\n",
    "print(lr.weights)\n",
    "\n",
    "y_test_pred = lr.predict(X_test)\n",
    "eval_regressor(y_test, y_test_pred)"
   ]
  },
  {
   "cell_type": "markdown",
   "metadata": {},
   "source": [
    "As for the Linear Regression, we can see that differences between scaling the data are not found. This is likely because the weights are not uniformly decided, such as the units of measure in a kNN Classification."
   ]
  },
  {
   "cell_type": "markdown",
   "metadata": {},
   "source": [
    "# Task 4. Obfuscating Data"
   ]
  },
  {
   "cell_type": "markdown",
   "metadata": {},
   "source": [
    "It best to obfuscate data by multiplying the numerical features (remember, they can be seen as the matrix $X$) by an invertible matrix $P$. \n",
    "\n",
    "$$\n",
    "X' = X \\times P\n",
    "$$\n",
    "\n",
    "Try to do that and check how the features' values will look like after the transformation. By the way, the invertible property is important here so make sure that $P$ is indeed invertible.\n",
    "\n",
    "You may want to review the 'Matrices and Matrix Operations -> Matrix Mupliplication' lesson to recall the rule of matrix multiplication and its implementation with NumPy."
   ]
  },
  {
   "cell_type": "code",
   "execution_count": 34,
   "metadata": {},
   "outputs": [],
   "source": [
    "personal_info_column_list = ['gender', 'age', 'income', 'family_members']\n",
    "df_pn = df[personal_info_column_list]"
   ]
  },
  {
   "cell_type": "code",
   "execution_count": 35,
   "metadata": {},
   "outputs": [],
   "source": [
    "X = df_pn.to_numpy()"
   ]
  },
  {
   "cell_type": "markdown",
   "metadata": {},
   "source": [
    "Generating a random matrix $P$."
   ]
  },
  {
   "cell_type": "code",
   "execution_count": 36,
   "metadata": {},
   "outputs": [],
   "source": [
    "rng = np.random.default_rng(seed=42)\n",
    "P = rng.random(size=(X.shape[1], X.shape[1]))"
   ]
  },
  {
   "cell_type": "markdown",
   "metadata": {},
   "source": [
    "Checking the matrix $P$ is invertible"
   ]
  },
  {
   "cell_type": "code",
   "execution_count": 37,
   "metadata": {},
   "outputs": [
    {
     "name": "stdout",
     "output_type": "stream",
     "text": [
      "[[ 0.41467992 -1.43783972  0.62798546  1.14001268]\n",
      " [-1.06101789  0.44219337  0.1329549   1.18425933]\n",
      " [ 1.42362442  1.60461607 -2.0553823  -1.53699695]\n",
      " [-0.11128575 -0.65813802  1.74995517 -0.11816316]]\n"
     ]
    }
   ],
   "source": [
    "print(np.linalg.inv(P))"
   ]
  },
  {
   "cell_type": "markdown",
   "metadata": {},
   "source": [
    "Can you guess the customers' ages or income after the transformation?"
   ]
  },
  {
   "cell_type": "code",
   "execution_count": 38,
   "metadata": {},
   "outputs": [
    {
     "name": "stdout",
     "output_type": "stream",
     "text": [
      "[545.86352869 373.05145717 327.11716359 ... 764.46206325 670.54504655\n",
      " 654.08029087]\n"
     ]
    }
   ],
   "source": [
    "X_p = X.dot(P)\n",
    "print(X_p[:,1]/X[:,1])"
   ]
  },
  {
   "cell_type": "markdown",
   "metadata": {},
   "source": [
    "Can you recover the original data from $X'$ if you know $P$? Try to check that with calculations by moving $P$ from the right side of the formula above to the left one. The rules of matrix multiplcation are really helpful here."
   ]
  },
  {
   "cell_type": "code",
   "execution_count": 39,
   "metadata": {},
   "outputs": [],
   "source": [
    "X_pp = X_p.dot(np.linalg.inv(P))"
   ]
  },
  {
   "cell_type": "markdown",
   "metadata": {},
   "source": [
    "Print all three cases for a few customers\n",
    "- The original data\n",
    "- The transformed one\n",
    "- The reversed (recovered) one"
   ]
  },
  {
   "cell_type": "code",
   "execution_count": 40,
   "metadata": {},
   "outputs": [
    {
     "name": "stdout",
     "output_type": "stream",
     "text": [
      "[[1.00e+00 4.10e+01 4.96e+04 1.00e+00]\n",
      " [0.00e+00 4.60e+01 3.80e+04 1.00e+00]\n",
      " [0.00e+00 2.90e+01 2.10e+04 0.00e+00]\n",
      " ...\n",
      " [0.00e+00 2.00e+01 3.39e+04 2.00e+00]\n",
      " [1.00e+00 2.20e+01 3.27e+04 3.00e+00]\n",
      " [1.00e+00 2.80e+01 4.06e+04 1.00e+00]]\n",
      "[[ 6359.71527314 22380.40467609 18424.09074184 46000.69669016]\n",
      " [ 4873.29406479 17160.36702982 14125.78076133 35253.45577301]\n",
      " [ 2693.11742928  9486.397744    7808.83156024 19484.86063067]\n",
      " ...\n",
      " [ 4346.2234249  15289.24126492 12586.16264392 31433.50888552]\n",
      " [ 4194.09324155 14751.9910242  12144.02930637 30323.88763426]\n",
      " [ 5205.46827354 18314.24814446 15077.01370762 37649.59295455]]\n",
      "[[ 1.00000000e+00  4.10000000e+01  4.96000000e+04  1.00000000e+00]\n",
      " [ 1.67952800e-12  4.60000000e+01  3.80000000e+04  1.00000000e+00]\n",
      " [-6.23021448e-13  2.90000000e+01  2.10000000e+04 -2.03032656e-13]\n",
      " ...\n",
      " [ 1.57996161e-12  2.00000000e+01  3.39000000e+04  2.00000000e+00]\n",
      " [ 1.00000000e+00  2.20000000e+01  3.27000000e+04  3.00000000e+00]\n",
      " [ 1.00000000e+00  2.80000000e+01  4.06000000e+04  1.00000000e+00]]\n"
     ]
    }
   ],
   "source": [
    "print(X)\n",
    "print(X_p)\n",
    "print(X_pp)"
   ]
  },
  {
   "cell_type": "markdown",
   "metadata": {},
   "source": [
    "You can probably see that some values are not exactly the same as they are in the original data. What might be the reason for that?"
   ]
  },
  {
   "cell_type": "markdown",
   "metadata": {},
   "source": [
    "There are some slight deviations in some of the numbers, but we see those are on the order of 10^(-12). There would be some errors caused by math with finite storage. Rounding occurs, and some precision is lost."
   ]
  },
  {
   "cell_type": "markdown",
   "metadata": {},
   "source": [
    "## Proof That Data Obfuscation Can Work with LR"
   ]
  },
  {
   "cell_type": "markdown",
   "metadata": {},
   "source": [
    "The regression task has been solved with linear regression in this project. Your next task is to prove _analytically_ that the given obfuscation method won't affect linear regression in terms of predicted values i.e. their values will remain the same. Can you believe that? Well, you don't have to, you should prove it!"
   ]
  },
  {
   "cell_type": "markdown",
   "metadata": {},
   "source": [
    "So, the data is obfuscated and there is $X \\times P$ instead of just $X$ now. Consequently, there are other weights $w_P$ as\n",
    "$$\n",
    "w = (X^T X)^{-1} X^T y \\quad \\Rightarrow \\quad w_P = [(XP)^T XP]^{-1} (XP)^T y\n",
    "$$\n",
    "\n",
    "How would $w$ and $w_P$ be linked if you simplify the formula for $w_P$ above? \n",
    "\n",
    "What would be predicted values with $w_P$? \n",
    "\n",
    "What does that mean for the quality of linear regression if you measure it with RMSE?\n",
    "\n",
    "Check Appendix B Properties of Matrices in the end of the notebook. There are useful formulas in there!\n",
    "\n",
    "No code is necessary in this section, only analytical explanation!"
   ]
  },
  {
   "cell_type": "markdown",
   "metadata": {},
   "source": [
    "**Answer**"
   ]
  },
  {
   "cell_type": "markdown",
   "metadata": {},
   "source": [
    "The replationship between an original matrix and its obfuscated matrix, the only difference is with the inverse of the obfuscating matrix, $P$. Because the obfuscating is done across all data observations, the effect is the same between them and the linear regression has the same RMSE between the two matrices."
   ]
  },
  {
   "cell_type": "markdown",
   "metadata": {},
   "source": [
    "**Analytical proof**"
   ]
  },
  {
   "cell_type": "markdown",
   "metadata": {},
   "source": [
    "$$\n",
    "w_p = [(X^TP^T)XP]^{-1}(X^TP^T)y\n",
    "$$\n",
    "\n",
    "$$\n",
    "w_p = [(XP)^{-1}(XP)^{-T}](X^TP^T)y\n",
    "$$\n",
    "\n",
    "$$\n",
    "w_p = (XP)^{-1}[(XP)(XP)^{-1}]^Ty\n",
    "$$\n",
    "\n",
    "$$\n",
    "w_p = (XP)^{-1}[I]^Ty\n",
    "$$\n",
    "\n",
    "$$\n",
    "w_p = (XP)^{-1}y\n",
    "$$\n",
    "\n",
    "$$\n",
    "w_p = P^{-1}X^{-1}y\n",
    "$$\n",
    "\n",
    "$$\n",
    "w_p = P^{-1}X^{-1}X^{-T}X^Ty\n",
    "$$\n",
    "\n",
    "$$\n",
    "w_p = P^{-1}(X^{T}X)^{-1}X^Ty\n",
    "$$\n",
    "\n",
    "$$\n",
    "w_p = P^{-1}w\n",
    "$$"
   ]
  },
  {
   "cell_type": "markdown",
   "metadata": {},
   "source": [
    "## Test Linear Regression With Data Obfuscation"
   ]
  },
  {
   "cell_type": "markdown",
   "metadata": {},
   "source": [
    "Now, let's prove Linear Regression can work computationally with the chosen obfuscation transformation.\n",
    "\n",
    "Build a procedure or a class that runs Linear Regression optionally with the obfuscation. You can use either a ready implementation of Linear Regression from sciki-learn or your own.\n",
    "\n",
    "Run Linear Regression for the original data and the obfuscated one, compare the predicted values and the RMSE, $R^2$ metric values. Is there any difference?"
   ]
  },
  {
   "cell_type": "markdown",
   "metadata": {},
   "source": [
    "**Procedure**\n",
    "\n",
    "- Create a square matrix $P$ of random numbers.\n",
    "- Check that it is invertible. If not, repeat the first point until we get an invertible matrix.\n",
    "- Use $XP$ as the new feature matrix"
   ]
  },
  {
   "cell_type": "code",
   "execution_count": 41,
   "metadata": {},
   "outputs": [
    {
     "data": {
      "text/plain": [
       "array([[ 2.19450806, -0.03188876,  0.05217293, -0.64857954],\n",
       "       [-2.32630105, -0.66611646,  1.8073291 ,  0.27050733],\n",
       "       [ 3.47767967,  2.46318223, -2.15521329, -1.2612122 ],\n",
       "       [-6.1753682 , -2.63150913,  1.85521818,  3.82879052]])"
      ]
     },
     "execution_count": 41,
     "metadata": {},
     "output_type": "execute_result"
    }
   ],
   "source": [
    "rng = np.random.default_rng(seed=123)\n",
    "P = rng.random(size=(X.shape[1], X.shape[1]))\n",
    "P_inv = np.linalg.inv(P)\n",
    "P_inv"
   ]
  },
  {
   "cell_type": "code",
   "execution_count": 42,
   "metadata": {},
   "outputs": [],
   "source": [
    "X_p = X.dot(P)"
   ]
  },
  {
   "cell_type": "code",
   "execution_count": 43,
   "metadata": {},
   "outputs": [
    {
     "name": "stdout",
     "output_type": "stream",
     "text": [
      "RMSE: 0.34\n",
      "R2: 0.66\n"
     ]
    }
   ],
   "source": [
    "X_train, X_test, y_train, y_test = train_test_split(X, y, test_size=0.3, random_state=12345)\n",
    "\n",
    "lr = MyLinearRegression()\n",
    "lr.fit(X_train, y_train)\n",
    "\n",
    "y_test_pred = lr.predict(X_test)\n",
    "eval_regressor(y_test, y_test_pred)"
   ]
  },
  {
   "cell_type": "code",
   "execution_count": 44,
   "metadata": {
    "scrolled": true
   },
   "outputs": [
    {
     "name": "stdout",
     "output_type": "stream",
     "text": [
      "RMSE: 0.34\n",
      "R2: 0.66\n"
     ]
    }
   ],
   "source": [
    "X_train, X_test, y_train, y_test = train_test_split(X_p, y, test_size=0.3, random_state=12345)\n",
    "\n",
    "lr = MyLinearRegression()\n",
    "lr.fit(X_train, y_train)\n",
    "\n",
    "y_test_pred = lr.predict(X_test)\n",
    "eval_regressor(y_test, y_test_pred)"
   ]
  },
  {
   "cell_type": "markdown",
   "metadata": {},
   "source": [
    "We see that there are no differences in the RMSE and the R2 values, so data obfuscation does not affect these in the model fitting and testing process."
   ]
  },
  {
   "cell_type": "markdown",
   "metadata": {},
   "source": [
    "# Conclusions"
   ]
  },
  {
   "cell_type": "markdown",
   "metadata": {},
   "source": [
    "In this project, we were given a dataset of insurance customers, some of their representative data, and the number of claimed benefits, which was our target during modeling. The data was clean, and we only had to optimize the storage sizes. Looking at the data preliminarily, we saw a well represented sample of genders, ages, salaries, and family members. \n",
    "\n",
    "We then used a kNN Algorithm to confirm that our dataset was only affected a minor amount if we used euclidean or manhattan distances to find the nearest neighbors. However, scaling the data added weight to the features, so that a male customer and a female customer were not compared as if it was a customer than made a miniscule amount more in annual salary. Therefore, scaling was imperative to a kNN Classifying model's success.\n",
    "\n",
    "We then created a dummy model, and used a 70/30 train and test split to verify if the classifier could reasonably predict if a customer received any insurance benefits in the last five years. The Classifier was reaching f1 scores of about 94%--well above the 20% f1 score of the dummy model. This also beat out a 65% score from an unscaled dataset, further proving that scaling is necessary. We could confirm that the kNN was successful. \n",
    "\n",
    "We then created our own Linear Regression model. The model used linear algebra to create weights of each feature that we could then apply to a predict the same outcome as the kNN Classifier, similar to what is available in the sklearn library. With our Linear Regression model, we wanted to see how scaling would affect this model type's outcome. Because the model creates it's own weights, unlike the kNN Classifier, scaling the data did not affect the results. The RMSE and R$^2$ values were the same, regardless of the input. \n",
    "\n",
    "Lastly, we explored Data Obfuscation with a random, invertible matrix, $P$. We saw and proved that the data was incomprehensible and secured the privacy of the information, but then multiplying it by the inverse of $P$ returned the data to its original form. Using the Linear Regression model, we found that the results were unaffected by obfuscation. The weights are different, but the error in prediction was the same, as the weights were only scaled by the matrix $P^{-1}$."
   ]
  }
 ],
 "metadata": {
  "ExecuteTimeLog": [
   {
    "duration": 2293,
    "start_time": "2021-06-15T19:06:59.462Z"
   },
   {
    "duration": 2017,
    "start_time": "2021-06-15T19:07:03.425Z"
   },
   {
    "duration": 234,
    "start_time": "2021-06-15T19:07:34.181Z"
   },
   {
    "duration": 6,
    "start_time": "2021-06-15T19:07:42.082Z"
   },
   {
    "duration": 17,
    "start_time": "2021-06-15T19:07:44.049Z"
   },
   {
    "duration": 10,
    "start_time": "2021-06-15T19:07:46.374Z"
   },
   {
    "duration": 6,
    "start_time": "2021-06-15T19:08:08.560Z"
   },
   {
    "duration": 5,
    "start_time": "2021-06-15T19:08:08.568Z"
   },
   {
    "duration": 9,
    "start_time": "2021-06-15T19:08:18.947Z"
   },
   {
    "duration": 4,
    "start_time": "2021-06-16T00:23:10.576Z"
   },
   {
    "duration": 182,
    "start_time": "2021-06-16T00:23:11.419Z"
   },
   {
    "duration": 5,
    "start_time": "2021-06-16T00:23:11.950Z"
   },
   {
    "duration": 14,
    "start_time": "2021-06-16T00:23:12.231Z"
   },
   {
    "duration": 9,
    "start_time": "2021-06-16T00:23:12.959Z"
   },
   {
    "duration": 14,
    "start_time": "2021-06-16T00:23:15.304Z"
   },
   {
    "duration": 3,
    "start_time": "2021-06-16T00:23:15.913Z"
   },
   {
    "duration": 11,
    "start_time": "2021-06-16T00:23:16.250Z"
   },
   {
    "duration": 9,
    "start_time": "2021-06-16T00:23:22.584Z"
   },
   {
    "duration": 4,
    "start_time": "2021-06-16T00:23:23.097Z"
   },
   {
    "duration": 10,
    "start_time": "2021-06-16T00:23:23.360Z"
   },
   {
    "duration": 35,
    "start_time": "2021-06-16T00:24:45.040Z"
   },
   {
    "duration": 1570,
    "start_time": "2021-06-19T16:33:13.233Z"
   },
   {
    "duration": 185,
    "start_time": "2021-06-19T16:33:14.806Z"
   },
   {
    "duration": 7,
    "start_time": "2021-06-19T16:33:14.994Z"
   },
   {
    "duration": 45,
    "start_time": "2021-06-19T16:33:15.004Z"
   },
   {
    "duration": 19,
    "start_time": "2021-06-19T16:33:15.052Z"
   },
   {
    "duration": 21,
    "start_time": "2021-06-19T16:33:15.074Z"
   },
   {
    "duration": 4,
    "start_time": "2021-06-19T16:33:15.097Z"
   },
   {
    "duration": 30,
    "start_time": "2021-06-19T16:33:15.104Z"
   },
   {
    "duration": 7,
    "start_time": "2021-06-19T16:33:15.137Z"
   },
   {
    "duration": 44,
    "start_time": "2021-06-19T16:33:15.146Z"
   },
   {
    "duration": 8209,
    "start_time": "2021-06-19T16:33:15.193Z"
   },
   {
    "duration": 3,
    "start_time": "2021-06-19T16:33:39.783Z"
   },
   {
    "duration": 94,
    "start_time": "2021-06-19T16:33:41.282Z"
   },
   {
    "duration": 6,
    "start_time": "2021-06-19T16:37:57.603Z"
   },
   {
    "duration": 17,
    "start_time": "2021-06-19T16:38:01.452Z"
   },
   {
    "duration": 14,
    "start_time": "2021-06-19T16:38:03.680Z"
   },
   {
    "duration": 407,
    "start_time": "2021-06-19T16:42:17.039Z"
   },
   {
    "duration": 543,
    "start_time": "2021-06-19T16:42:23.360Z"
   },
   {
    "duration": 8,
    "start_time": "2021-06-19T16:43:45.841Z"
   },
   {
    "duration": 16,
    "start_time": "2021-06-19T16:43:47.338Z"
   },
   {
    "duration": 14,
    "start_time": "2021-06-19T16:43:48.034Z"
   },
   {
    "duration": 663,
    "start_time": "2021-06-19T16:43:51.171Z"
   },
   {
    "duration": 4,
    "start_time": "2021-06-19T16:44:35.954Z"
   },
   {
    "duration": 6,
    "start_time": "2021-06-19T16:44:43.875Z"
   },
   {
    "duration": 16,
    "start_time": "2021-06-19T16:44:45.538Z"
   },
   {
    "duration": 18,
    "start_time": "2021-06-19T16:44:45.976Z"
   },
   {
    "duration": 568,
    "start_time": "2021-06-19T16:44:48.043Z"
   },
   {
    "duration": 6,
    "start_time": "2021-06-19T16:46:29.170Z"
   },
   {
    "duration": 17,
    "start_time": "2021-06-19T16:46:30.009Z"
   },
   {
    "duration": 14,
    "start_time": "2021-06-19T16:46:30.324Z"
   },
   {
    "duration": 551,
    "start_time": "2021-06-19T16:46:33.576Z"
   },
   {
    "duration": 4,
    "start_time": "2021-06-19T16:46:55.394Z"
   },
   {
    "duration": 194,
    "start_time": "2021-06-19T16:46:55.411Z"
   },
   {
    "duration": 5,
    "start_time": "2021-06-19T16:46:55.608Z"
   },
   {
    "duration": 18,
    "start_time": "2021-06-19T16:46:55.616Z"
   },
   {
    "duration": 9,
    "start_time": "2021-06-19T16:46:55.636Z"
   },
   {
    "duration": 10,
    "start_time": "2021-06-19T16:46:55.647Z"
   },
   {
    "duration": 5,
    "start_time": "2021-06-19T16:46:55.659Z"
   },
   {
    "duration": 15,
    "start_time": "2021-06-19T16:46:55.667Z"
   },
   {
    "duration": 3,
    "start_time": "2021-06-19T16:46:55.725Z"
   },
   {
    "duration": 33,
    "start_time": "2021-06-19T16:46:55.733Z"
   },
   {
    "duration": 8698,
    "start_time": "2021-06-19T16:46:55.769Z"
   },
   {
    "duration": 4,
    "start_time": "2021-06-19T16:47:04.469Z"
   },
   {
    "duration": 13,
    "start_time": "2021-06-19T16:47:04.475Z"
   },
   {
    "duration": 44,
    "start_time": "2021-06-19T16:47:04.490Z"
   },
   {
    "duration": 16,
    "start_time": "2021-06-19T16:47:04.536Z"
   },
   {
    "duration": 675,
    "start_time": "2021-06-19T16:47:09.723Z"
   },
   {
    "duration": 6,
    "start_time": "2021-06-19T16:47:29.285Z"
   },
   {
    "duration": 15,
    "start_time": "2021-06-19T16:47:30.294Z"
   },
   {
    "duration": 16,
    "start_time": "2021-06-19T16:47:30.640Z"
   },
   {
    "duration": 1320,
    "start_time": "2021-06-19T16:47:31.720Z"
   },
   {
    "duration": 6,
    "start_time": "2021-06-19T16:47:54.406Z"
   },
   {
    "duration": 15,
    "start_time": "2021-06-19T16:47:57.223Z"
   },
   {
    "duration": 15,
    "start_time": "2021-06-19T16:47:57.670Z"
   },
   {
    "duration": 22,
    "start_time": "2021-06-19T16:47:58.760Z"
   },
   {
    "duration": 267,
    "start_time": "2021-06-19T16:48:05.988Z"
   },
   {
    "duration": 300,
    "start_time": "2021-06-19T16:48:20.303Z"
   },
   {
    "duration": 25,
    "start_time": "2021-06-19T16:48:30.759Z"
   },
   {
    "duration": 34,
    "start_time": "2021-06-19T16:49:39.940Z"
   },
   {
    "duration": 24,
    "start_time": "2021-06-19T16:49:53.691Z"
   },
   {
    "duration": 36,
    "start_time": "2021-06-19T16:49:54.234Z"
   },
   {
    "duration": 8,
    "start_time": "2021-06-19T17:07:09.490Z"
   },
   {
    "duration": 9,
    "start_time": "2021-06-19T17:07:36.092Z"
   },
   {
    "duration": 12,
    "start_time": "2021-06-19T17:13:03.070Z"
   },
   {
    "duration": 8,
    "start_time": "2021-06-19T17:13:03.985Z"
   },
   {
    "duration": 5,
    "start_time": "2021-06-19T17:14:34.872Z"
   },
   {
    "duration": 10,
    "start_time": "2021-06-19T17:14:35.250Z"
   },
   {
    "duration": 5,
    "start_time": "2021-06-19T17:14:42.706Z"
   },
   {
    "duration": 9,
    "start_time": "2021-06-19T17:14:43.417Z"
   },
   {
    "duration": 6,
    "start_time": "2021-06-19T17:14:49.869Z"
   },
   {
    "duration": 8,
    "start_time": "2021-06-19T17:14:50.385Z"
   },
   {
    "duration": 4,
    "start_time": "2021-06-19T17:14:57.385Z"
   },
   {
    "duration": 5,
    "start_time": "2021-06-19T17:14:59.051Z"
   },
   {
    "duration": 531,
    "start_time": "2021-06-19T17:16:58.705Z"
   },
   {
    "duration": 539,
    "start_time": "2021-06-19T17:17:17.007Z"
   },
   {
    "duration": 4,
    "start_time": "2021-06-19T17:18:00.182Z"
   },
   {
    "duration": 5,
    "start_time": "2021-06-19T17:18:00.521Z"
   },
   {
    "duration": 700,
    "start_time": "2021-06-19T17:18:01.027Z"
   },
   {
    "duration": 5,
    "start_time": "2021-06-19T17:25:26.889Z"
   },
   {
    "duration": 309,
    "start_time": "2021-06-19T17:25:26.906Z"
   },
   {
    "duration": 8,
    "start_time": "2021-06-19T17:25:27.218Z"
   },
   {
    "duration": 21,
    "start_time": "2021-06-19T17:25:27.230Z"
   },
   {
    "duration": 14,
    "start_time": "2021-06-19T17:25:27.254Z"
   },
   {
    "duration": 10,
    "start_time": "2021-06-19T17:25:27.270Z"
   },
   {
    "duration": 42,
    "start_time": "2021-06-19T17:25:27.283Z"
   },
   {
    "duration": 16,
    "start_time": "2021-06-19T17:25:27.328Z"
   },
   {
    "duration": 5,
    "start_time": "2021-06-19T17:25:27.347Z"
   },
   {
    "duration": 67,
    "start_time": "2021-06-19T17:25:27.356Z"
   },
   {
    "duration": 8661,
    "start_time": "2021-06-19T17:25:27.426Z"
   },
   {
    "duration": 4,
    "start_time": "2021-06-19T17:25:36.089Z"
   },
   {
    "duration": 7,
    "start_time": "2021-06-19T17:25:36.096Z"
   },
   {
    "duration": 15,
    "start_time": "2021-06-19T17:25:36.124Z"
   },
   {
    "duration": 18,
    "start_time": "2021-06-19T17:25:36.142Z"
   },
   {
    "duration": 73,
    "start_time": "2021-06-19T17:25:36.162Z"
   },
   {
    "duration": 35,
    "start_time": "2021-06-19T17:25:36.237Z"
   },
   {
    "duration": 51,
    "start_time": "2021-06-19T17:25:36.274Z"
   },
   {
    "duration": 35,
    "start_time": "2021-06-19T17:25:36.327Z"
   },
   {
    "duration": 5,
    "start_time": "2021-06-19T17:25:36.365Z"
   },
   {
    "duration": 15,
    "start_time": "2021-06-19T17:25:36.373Z"
   },
   {
    "duration": 37,
    "start_time": "2021-06-19T17:25:36.390Z"
   },
   {
    "duration": 7,
    "start_time": "2021-06-19T17:25:36.430Z"
   },
   {
    "duration": 524,
    "start_time": "2021-06-19T17:25:36.440Z"
   },
   {
    "duration": 5,
    "start_time": "2021-06-19T17:28:19.586Z"
   },
   {
    "duration": 4,
    "start_time": "2021-06-19T17:28:19.966Z"
   },
   {
    "duration": 528,
    "start_time": "2021-06-19T17:28:20.608Z"
   },
   {
    "duration": 278,
    "start_time": "2021-06-19T17:29:49.125Z"
   },
   {
    "duration": 4,
    "start_time": "2021-06-19T17:29:55.731Z"
   },
   {
    "duration": 1535,
    "start_time": "2021-06-19T17:31:52.005Z"
   },
   {
    "duration": 195,
    "start_time": "2021-06-19T17:31:53.543Z"
   },
   {
    "duration": 6,
    "start_time": "2021-06-19T17:31:53.741Z"
   },
   {
    "duration": 29,
    "start_time": "2021-06-19T17:31:53.750Z"
   },
   {
    "duration": 9,
    "start_time": "2021-06-19T17:31:53.781Z"
   },
   {
    "duration": 33,
    "start_time": "2021-06-19T17:31:53.793Z"
   },
   {
    "duration": 3,
    "start_time": "2021-06-19T17:31:53.829Z"
   },
   {
    "duration": 18,
    "start_time": "2021-06-19T17:31:53.836Z"
   },
   {
    "duration": 4,
    "start_time": "2021-06-19T17:31:53.858Z"
   },
   {
    "duration": 71,
    "start_time": "2021-06-19T17:31:53.865Z"
   },
   {
    "duration": 8392,
    "start_time": "2021-06-19T17:31:53.939Z"
   },
   {
    "duration": 4,
    "start_time": "2021-06-19T17:32:02.333Z"
   },
   {
    "duration": 19,
    "start_time": "2021-06-19T17:32:02.340Z"
   },
   {
    "duration": 32,
    "start_time": "2021-06-19T17:32:02.361Z"
   },
   {
    "duration": 35,
    "start_time": "2021-06-19T17:32:02.396Z"
   },
   {
    "duration": 44,
    "start_time": "2021-06-19T17:32:02.434Z"
   },
   {
    "duration": 51,
    "start_time": "2021-06-19T17:32:02.480Z"
   },
   {
    "duration": 23,
    "start_time": "2021-06-19T17:32:02.533Z"
   },
   {
    "duration": 36,
    "start_time": "2021-06-19T17:32:02.558Z"
   },
   {
    "duration": 39,
    "start_time": "2021-06-19T17:32:02.596Z"
   },
   {
    "duration": 8,
    "start_time": "2021-06-19T17:32:02.638Z"
   },
   {
    "duration": 12,
    "start_time": "2021-06-19T17:32:02.648Z"
   },
   {
    "duration": 15,
    "start_time": "2021-06-19T17:32:02.664Z"
   },
   {
    "duration": 768,
    "start_time": "2021-06-19T17:32:02.682Z"
   },
   {
    "duration": 5,
    "start_time": "2021-06-19T17:33:32.989Z"
   },
   {
    "duration": 4,
    "start_time": "2021-06-19T17:33:33.428Z"
   },
   {
    "duration": 510,
    "start_time": "2021-06-19T17:33:34.066Z"
   },
   {
    "duration": 4,
    "start_time": "2021-06-19T17:37:23.927Z"
   },
   {
    "duration": 4,
    "start_time": "2021-06-19T17:37:25.484Z"
   },
   {
    "duration": 688,
    "start_time": "2021-06-19T17:37:25.763Z"
   },
   {
    "duration": 4,
    "start_time": "2021-06-19T17:37:49.790Z"
   },
   {
    "duration": 4,
    "start_time": "2021-06-19T17:38:00.649Z"
   },
   {
    "duration": 5,
    "start_time": "2021-06-19T17:38:01.064Z"
   },
   {
    "duration": 562,
    "start_time": "2021-06-19T17:38:01.671Z"
   },
   {
    "duration": 570,
    "start_time": "2021-06-19T17:39:01.128Z"
   },
   {
    "duration": 5,
    "start_time": "2021-06-19T17:48:47.205Z"
   },
   {
    "duration": 4,
    "start_time": "2021-06-19T17:48:47.535Z"
   },
   {
    "duration": 5,
    "start_time": "2021-06-19T17:48:48.423Z"
   },
   {
    "duration": 5,
    "start_time": "2021-06-19T17:48:49.420Z"
   },
   {
    "duration": 272,
    "start_time": "2021-06-19T17:48:59.060Z"
   },
   {
    "duration": 265,
    "start_time": "2021-06-19T17:49:04.825Z"
   },
   {
    "duration": 5,
    "start_time": "2021-06-19T17:49:23.971Z"
   },
   {
    "duration": 4,
    "start_time": "2021-06-19T17:50:25.981Z"
   },
   {
    "duration": 5,
    "start_time": "2021-06-19T17:50:26.645Z"
   },
   {
    "duration": 6,
    "start_time": "2021-06-19T17:51:32.397Z"
   },
   {
    "duration": 4,
    "start_time": "2021-06-19T17:51:51.455Z"
   },
   {
    "duration": 7,
    "start_time": "2021-06-19T17:52:04.936Z"
   },
   {
    "duration": 6,
    "start_time": "2021-06-19T17:52:14.670Z"
   },
   {
    "duration": 6,
    "start_time": "2021-06-19T17:52:22.324Z"
   },
   {
    "duration": 6,
    "start_time": "2021-06-19T17:52:27.775Z"
   },
   {
    "duration": 7,
    "start_time": "2021-06-19T17:52:56.267Z"
   },
   {
    "duration": 6,
    "start_time": "2021-06-19T17:53:07.616Z"
   },
   {
    "duration": 7,
    "start_time": "2021-06-19T17:53:17.201Z"
   },
   {
    "duration": 6,
    "start_time": "2021-06-19T17:53:27.528Z"
   },
   {
    "duration": 6,
    "start_time": "2021-06-19T17:53:39.576Z"
   },
   {
    "duration": 7,
    "start_time": "2021-06-19T17:54:12.449Z"
   },
   {
    "duration": 6,
    "start_time": "2021-06-19T17:54:59.497Z"
   },
   {
    "duration": 9,
    "start_time": "2021-06-19T17:55:31.011Z"
   },
   {
    "duration": 7,
    "start_time": "2021-06-19T17:57:36.631Z"
   },
   {
    "duration": 4,
    "start_time": "2021-06-19T17:57:59.925Z"
   },
   {
    "duration": 8,
    "start_time": "2021-06-19T17:58:22.228Z"
   },
   {
    "duration": 5,
    "start_time": "2021-06-19T18:02:23.312Z"
   },
   {
    "duration": 8,
    "start_time": "2021-06-19T18:02:32.399Z"
   },
   {
    "duration": 9,
    "start_time": "2021-06-19T18:02:34.735Z"
   },
   {
    "duration": 3,
    "start_time": "2021-06-19T18:02:56.419Z"
   },
   {
    "duration": 5,
    "start_time": "2021-06-19T19:48:52.113Z"
   },
   {
    "duration": 5,
    "start_time": "2021-06-19T19:48:52.589Z"
   },
   {
    "duration": 162,
    "start_time": "2021-06-19T19:48:53.190Z"
   },
   {
    "duration": 5,
    "start_time": "2021-06-19T20:19:33.580Z"
   },
   {
    "duration": 4,
    "start_time": "2021-06-19T20:24:35.276Z"
   },
   {
    "duration": 6,
    "start_time": "2021-06-19T20:24:38.295Z"
   },
   {
    "duration": 8,
    "start_time": "2021-06-19T20:24:38.766Z"
   },
   {
    "duration": 5,
    "start_time": "2021-06-19T20:24:39.686Z"
   },
   {
    "duration": 5,
    "start_time": "2021-06-19T20:24:40.722Z"
   },
   {
    "duration": 96,
    "start_time": "2021-06-19T20:24:41.457Z"
   },
   {
    "duration": 13,
    "start_time": "2021-06-19T20:55:48.453Z"
   },
   {
    "duration": 6,
    "start_time": "2021-06-19T20:55:48.837Z"
   },
   {
    "duration": 316,
    "start_time": "2021-06-19T20:55:51.517Z"
   },
   {
    "duration": 87,
    "start_time": "2021-06-19T20:55:56.570Z"
   },
   {
    "duration": 11,
    "start_time": "2021-06-19T20:55:57.363Z"
   },
   {
    "duration": 6,
    "start_time": "2021-06-19T20:56:02.599Z"
   },
   {
    "duration": 11,
    "start_time": "2021-06-19T20:56:03.648Z"
   },
   {
    "duration": 6,
    "start_time": "2021-06-19T20:56:04.327Z"
   },
   {
    "duration": 554,
    "start_time": "2021-06-19T20:56:05.082Z"
   },
   {
    "duration": 8,
    "start_time": "2021-06-19T20:56:50.552Z"
   },
   {
    "duration": 11,
    "start_time": "2021-06-19T20:56:51.207Z"
   },
   {
    "duration": 8,
    "start_time": "2021-06-19T20:56:51.607Z"
   },
   {
    "duration": 1428,
    "start_time": "2021-06-19T20:56:52.079Z"
   },
   {
    "duration": 6,
    "start_time": "2021-06-19T21:11:08.597Z"
   },
   {
    "duration": 10,
    "start_time": "2021-06-19T21:11:12.075Z"
   },
   {
    "duration": 6,
    "start_time": "2021-06-19T21:11:12.511Z"
   },
   {
    "duration": 534,
    "start_time": "2021-06-19T21:11:13.019Z"
   },
   {
    "duration": 6,
    "start_time": "2021-06-19T21:11:41.036Z"
   },
   {
    "duration": 10,
    "start_time": "2021-06-19T21:11:41.402Z"
   },
   {
    "duration": 6,
    "start_time": "2021-06-19T21:11:41.932Z"
   },
   {
    "duration": 577,
    "start_time": "2021-06-19T21:11:42.582Z"
   },
   {
    "duration": 7,
    "start_time": "2021-06-19T21:11:54.786Z"
   },
   {
    "duration": 9,
    "start_time": "2021-06-19T21:11:55.471Z"
   },
   {
    "duration": 6,
    "start_time": "2021-06-19T21:11:55.931Z"
   },
   {
    "duration": 541,
    "start_time": "2021-06-19T21:11:56.481Z"
   },
   {
    "duration": 7,
    "start_time": "2021-06-19T21:12:19.714Z"
   },
   {
    "duration": 12,
    "start_time": "2021-06-19T21:12:20.086Z"
   },
   {
    "duration": 7,
    "start_time": "2021-06-19T21:12:20.436Z"
   },
   {
    "duration": 577,
    "start_time": "2021-06-19T21:12:20.812Z"
   },
   {
    "duration": 6,
    "start_time": "2021-06-19T21:12:40.968Z"
   },
   {
    "duration": 9,
    "start_time": "2021-06-19T21:12:41.289Z"
   },
   {
    "duration": 6,
    "start_time": "2021-06-19T21:12:41.606Z"
   },
   {
    "duration": 645,
    "start_time": "2021-06-19T21:12:41.872Z"
   },
   {
    "duration": 7,
    "start_time": "2021-06-19T21:14:32.289Z"
   },
   {
    "duration": 10,
    "start_time": "2021-06-19T21:14:32.648Z"
   },
   {
    "duration": 6,
    "start_time": "2021-06-19T21:14:33.038Z"
   },
   {
    "duration": 558,
    "start_time": "2021-06-19T21:14:33.637Z"
   },
   {
    "duration": 7,
    "start_time": "2021-06-19T21:15:23.412Z"
   },
   {
    "duration": 10,
    "start_time": "2021-06-19T21:15:23.798Z"
   },
   {
    "duration": 6,
    "start_time": "2021-06-19T21:15:24.189Z"
   },
   {
    "duration": 545,
    "start_time": "2021-06-19T21:15:24.674Z"
   },
   {
    "duration": 6,
    "start_time": "2021-06-19T21:16:16.508Z"
   },
   {
    "duration": 9,
    "start_time": "2021-06-19T21:16:17.844Z"
   },
   {
    "duration": 6,
    "start_time": "2021-06-19T21:16:18.213Z"
   },
   {
    "duration": 549,
    "start_time": "2021-06-19T21:16:18.417Z"
   },
   {
    "duration": 7,
    "start_time": "2021-06-19T21:16:42.909Z"
   },
   {
    "duration": 9,
    "start_time": "2021-06-19T21:16:43.812Z"
   },
   {
    "duration": 6,
    "start_time": "2021-06-19T21:16:44.061Z"
   },
   {
    "duration": 550,
    "start_time": "2021-06-19T21:16:44.318Z"
   },
   {
    "duration": 7,
    "start_time": "2021-06-19T21:17:02.164Z"
   },
   {
    "duration": 9,
    "start_time": "2021-06-19T21:17:02.472Z"
   },
   {
    "duration": 5,
    "start_time": "2021-06-19T21:17:02.767Z"
   },
   {
    "duration": 573,
    "start_time": "2021-06-19T21:17:03.041Z"
   },
   {
    "duration": 7,
    "start_time": "2021-06-19T21:17:24.562Z"
   },
   {
    "duration": 10,
    "start_time": "2021-06-19T21:17:25.161Z"
   },
   {
    "duration": 6,
    "start_time": "2021-06-19T21:17:25.758Z"
   },
   {
    "duration": 550,
    "start_time": "2021-06-19T21:17:26.401Z"
   },
   {
    "duration": 7,
    "start_time": "2021-06-19T21:17:43.467Z"
   },
   {
    "duration": 10,
    "start_time": "2021-06-19T21:17:44.611Z"
   },
   {
    "duration": 6,
    "start_time": "2021-06-19T21:17:44.827Z"
   },
   {
    "duration": 549,
    "start_time": "2021-06-19T21:17:45.028Z"
   },
   {
    "duration": 7,
    "start_time": "2021-06-19T21:18:11.206Z"
   },
   {
    "duration": 9,
    "start_time": "2021-06-19T21:18:11.621Z"
   },
   {
    "duration": 7,
    "start_time": "2021-06-19T21:18:12.036Z"
   },
   {
    "duration": 530,
    "start_time": "2021-06-19T21:18:12.398Z"
   },
   {
    "duration": 7,
    "start_time": "2021-06-19T21:20:47.648Z"
   },
   {
    "duration": 10,
    "start_time": "2021-06-19T21:20:48.693Z"
   },
   {
    "duration": 6,
    "start_time": "2021-06-19T21:20:49.112Z"
   },
   {
    "duration": 1318,
    "start_time": "2021-06-19T21:20:49.610Z"
   },
   {
    "duration": 6,
    "start_time": "2021-06-19T21:22:10.406Z"
   },
   {
    "duration": 9,
    "start_time": "2021-06-19T21:22:10.814Z"
   },
   {
    "duration": 6,
    "start_time": "2021-06-19T21:22:11.222Z"
   },
   {
    "duration": 562,
    "start_time": "2021-06-19T21:22:12.366Z"
   },
   {
    "duration": 7,
    "start_time": "2021-06-19T21:23:12.593Z"
   },
   {
    "duration": 10,
    "start_time": "2021-06-19T21:23:12.879Z"
   },
   {
    "duration": 6,
    "start_time": "2021-06-19T21:23:13.236Z"
   },
   {
    "duration": 664,
    "start_time": "2021-06-19T21:23:14.792Z"
   },
   {
    "duration": 7,
    "start_time": "2021-06-19T21:23:41.009Z"
   },
   {
    "duration": 10,
    "start_time": "2021-06-19T21:23:41.907Z"
   },
   {
    "duration": 6,
    "start_time": "2021-06-19T21:23:42.294Z"
   },
   {
    "duration": 520,
    "start_time": "2021-06-19T21:23:43.444Z"
   },
   {
    "duration": 7,
    "start_time": "2021-06-19T21:23:53.209Z"
   },
   {
    "duration": 6,
    "start_time": "2021-06-19T21:24:05.142Z"
   },
   {
    "duration": 8,
    "start_time": "2021-06-19T21:24:05.732Z"
   },
   {
    "duration": 14,
    "start_time": "2021-06-19T21:24:06.073Z"
   },
   {
    "duration": 526,
    "start_time": "2021-06-19T21:24:06.559Z"
   },
   {
    "duration": 7,
    "start_time": "2021-06-19T21:24:25.227Z"
   },
   {
    "duration": 9,
    "start_time": "2021-06-19T21:24:25.659Z"
   },
   {
    "duration": 7,
    "start_time": "2021-06-19T21:24:26.033Z"
   },
   {
    "duration": 535,
    "start_time": "2021-06-19T21:24:26.751Z"
   },
   {
    "duration": 7,
    "start_time": "2021-06-19T21:25:01.434Z"
   },
   {
    "duration": 11,
    "start_time": "2021-06-19T21:25:01.794Z"
   },
   {
    "duration": 6,
    "start_time": "2021-06-19T21:25:02.154Z"
   },
   {
    "duration": 581,
    "start_time": "2021-06-19T21:25:02.627Z"
   },
   {
    "duration": 9,
    "start_time": "2021-06-19T21:25:13.074Z"
   },
   {
    "duration": 13,
    "start_time": "2021-06-19T21:25:13.458Z"
   },
   {
    "duration": 6,
    "start_time": "2021-06-19T21:25:13.814Z"
   },
   {
    "duration": 559,
    "start_time": "2021-06-19T21:25:14.088Z"
   },
   {
    "duration": 7,
    "start_time": "2021-06-19T21:25:21.332Z"
   },
   {
    "duration": 10,
    "start_time": "2021-06-19T21:25:21.848Z"
   },
   {
    "duration": 6,
    "start_time": "2021-06-19T21:25:22.448Z"
   },
   {
    "duration": 576,
    "start_time": "2021-06-19T21:25:22.918Z"
   },
   {
    "duration": 10,
    "start_time": "2021-06-19T21:25:54.432Z"
   },
   {
    "duration": 12,
    "start_time": "2021-06-19T21:25:54.833Z"
   },
   {
    "duration": 8,
    "start_time": "2021-06-19T21:25:55.082Z"
   },
   {
    "duration": 590,
    "start_time": "2021-06-19T21:25:55.327Z"
   },
   {
    "duration": 5858,
    "start_time": "2021-06-19T21:26:22.664Z"
   },
   {
    "duration": 8,
    "start_time": "2021-06-19T21:26:40.707Z"
   },
   {
    "duration": 9,
    "start_time": "2021-06-19T21:26:41.127Z"
   },
   {
    "duration": 6,
    "start_time": "2021-06-19T21:26:41.527Z"
   },
   {
    "duration": 5357,
    "start_time": "2021-06-19T21:26:42.123Z"
   },
   {
    "duration": 7,
    "start_time": "2021-06-19T21:26:56.337Z"
   },
   {
    "duration": 12,
    "start_time": "2021-06-19T21:26:56.752Z"
   },
   {
    "duration": 8,
    "start_time": "2021-06-19T21:26:57.193Z"
   },
   {
    "duration": 5619,
    "start_time": "2021-06-19T21:26:58.513Z"
   },
   {
    "duration": 10,
    "start_time": "2021-06-19T21:27:27.909Z"
   },
   {
    "duration": 13,
    "start_time": "2021-06-19T21:27:28.339Z"
   },
   {
    "duration": 7,
    "start_time": "2021-06-19T21:27:28.705Z"
   },
   {
    "duration": 4979,
    "start_time": "2021-06-19T21:27:29.175Z"
   },
   {
    "duration": 6,
    "start_time": "2021-06-19T21:28:07.639Z"
   },
   {
    "duration": 10,
    "start_time": "2021-06-19T21:28:08.372Z"
   },
   {
    "duration": 6,
    "start_time": "2021-06-19T21:28:08.678Z"
   },
   {
    "duration": 5157,
    "start_time": "2021-06-19T21:28:09.105Z"
   },
   {
    "duration": 6,
    "start_time": "2021-06-19T21:28:42.024Z"
   },
   {
    "duration": 12,
    "start_time": "2021-06-19T21:28:43.417Z"
   },
   {
    "duration": 8,
    "start_time": "2021-06-19T21:28:43.682Z"
   },
   {
    "duration": 7232,
    "start_time": "2021-06-19T21:28:43.916Z"
   },
   {
    "duration": 10,
    "start_time": "2021-06-19T21:28:54.547Z"
   },
   {
    "duration": 13,
    "start_time": "2021-06-19T21:28:54.801Z"
   },
   {
    "duration": 7,
    "start_time": "2021-06-19T21:28:55.030Z"
   },
   {
    "duration": 5685,
    "start_time": "2021-06-19T21:28:55.338Z"
   },
   {
    "duration": 8,
    "start_time": "2021-06-19T21:29:30.852Z"
   },
   {
    "duration": 10,
    "start_time": "2021-06-19T21:29:31.232Z"
   },
   {
    "duration": 6,
    "start_time": "2021-06-19T21:29:31.618Z"
   },
   {
    "duration": 4992,
    "start_time": "2021-06-19T21:29:32.009Z"
   },
   {
    "duration": 7,
    "start_time": "2021-06-19T21:29:47.000Z"
   },
   {
    "duration": 9,
    "start_time": "2021-06-19T21:29:47.324Z"
   },
   {
    "duration": 5,
    "start_time": "2021-06-19T21:29:47.649Z"
   },
   {
    "duration": 7,
    "start_time": "2021-06-19T21:30:35.795Z"
   },
   {
    "duration": 10,
    "start_time": "2021-06-19T21:30:35.825Z"
   },
   {
    "duration": 6,
    "start_time": "2021-06-19T21:30:35.837Z"
   },
   {
    "duration": 41089,
    "start_time": "2021-06-19T21:30:35.846Z"
   },
   {
    "duration": 27428,
    "start_time": "2021-06-19T21:31:27.309Z"
   },
   {
    "duration": 7,
    "start_time": "2021-06-19T21:32:07.708Z"
   },
   {
    "duration": 15,
    "start_time": "2021-06-19T21:32:08.129Z"
   },
   {
    "duration": 6,
    "start_time": "2021-06-19T21:32:08.568Z"
   },
   {
    "duration": 557,
    "start_time": "2021-06-19T21:32:09.716Z"
   },
   {
    "duration": 7,
    "start_time": "2021-06-19T21:32:34.687Z"
   },
   {
    "duration": 9,
    "start_time": "2021-06-19T21:32:34.972Z"
   },
   {
    "duration": 6,
    "start_time": "2021-06-19T21:32:35.202Z"
   },
   {
    "duration": 28060,
    "start_time": "2021-06-19T21:32:35.784Z"
   },
   {
    "duration": 7,
    "start_time": "2021-06-19T21:33:38.143Z"
   },
   {
    "duration": 9,
    "start_time": "2021-06-19T21:33:38.463Z"
   },
   {
    "duration": 6,
    "start_time": "2021-06-19T21:33:38.879Z"
   },
   {
    "duration": 574,
    "start_time": "2021-06-19T21:33:39.567Z"
   },
   {
    "duration": 7,
    "start_time": "2021-06-19T21:33:48.127Z"
   },
   {
    "duration": 14,
    "start_time": "2021-06-19T21:33:48.137Z"
   },
   {
    "duration": 5,
    "start_time": "2021-06-19T21:33:48.249Z"
   },
   {
    "duration": 667,
    "start_time": "2021-06-19T21:33:48.729Z"
   },
   {
    "duration": 7,
    "start_time": "2021-06-19T21:34:00.494Z"
   },
   {
    "duration": 9,
    "start_time": "2021-06-19T21:34:00.837Z"
   },
   {
    "duration": 6,
    "start_time": "2021-06-19T21:34:01.184Z"
   },
   {
    "duration": 781,
    "start_time": "2021-06-19T21:34:01.484Z"
   },
   {
    "duration": 7,
    "start_time": "2021-06-19T21:34:14.327Z"
   },
   {
    "duration": 9,
    "start_time": "2021-06-19T21:34:14.748Z"
   },
   {
    "duration": 8,
    "start_time": "2021-06-19T21:34:15.007Z"
   },
   {
    "duration": 970,
    "start_time": "2021-06-19T21:34:15.313Z"
   },
   {
    "duration": 7,
    "start_time": "2021-06-19T21:34:23.283Z"
   },
   {
    "duration": 8,
    "start_time": "2021-06-19T21:34:23.618Z"
   },
   {
    "duration": 6,
    "start_time": "2021-06-19T21:34:23.853Z"
   },
   {
    "duration": 27690,
    "start_time": "2021-06-19T21:34:24.558Z"
   },
   {
    "duration": 5,
    "start_time": "2021-06-19T21:39:19.714Z"
   },
   {
    "duration": 5,
    "start_time": "2021-06-19T21:41:53.042Z"
   },
   {
    "duration": 6,
    "start_time": "2021-06-19T21:44:11.349Z"
   },
   {
    "duration": 9,
    "start_time": "2021-06-19T21:44:15.373Z"
   },
   {
    "duration": 6,
    "start_time": "2021-06-19T21:44:16.107Z"
   },
   {
    "duration": 1411,
    "start_time": "2021-06-19T21:44:17.163Z"
   },
   {
    "duration": 6,
    "start_time": "2021-06-19T22:22:22.654Z"
   },
   {
    "duration": 9,
    "start_time": "2021-06-19T22:22:22.975Z"
   },
   {
    "duration": 5,
    "start_time": "2021-06-19T22:22:23.231Z"
   },
   {
    "duration": 957,
    "start_time": "2021-06-19T22:22:23.574Z"
   },
   {
    "duration": 11621,
    "start_time": "2021-06-19T22:24:13.224Z"
   },
   {
    "duration": 17425,
    "start_time": "2021-06-19T22:25:03.200Z"
   },
   {
    "duration": 11727,
    "start_time": "2021-06-19T22:26:05.532Z"
   },
   {
    "duration": 17214,
    "start_time": "2021-06-19T22:28:10.699Z"
   },
   {
    "duration": 928,
    "start_time": "2021-06-19T22:30:32.621Z"
   },
   {
    "duration": 10,
    "start_time": "2021-06-19T22:30:34.330Z"
   },
   {
    "duration": 940,
    "start_time": "2021-06-19T22:30:34.787Z"
   },
   {
    "duration": 6,
    "start_time": "2021-06-19T22:30:51.093Z"
   },
   {
    "duration": 231,
    "start_time": "2021-06-19T22:30:51.102Z"
   },
   {
    "duration": 6,
    "start_time": "2021-06-19T22:30:51.336Z"
   },
   {
    "duration": 28,
    "start_time": "2021-06-19T22:30:51.345Z"
   },
   {
    "duration": 29,
    "start_time": "2021-06-19T22:30:51.376Z"
   },
   {
    "duration": 31,
    "start_time": "2021-06-19T22:30:51.408Z"
   },
   {
    "duration": 9,
    "start_time": "2021-06-19T22:30:51.441Z"
   },
   {
    "duration": 28,
    "start_time": "2021-06-19T22:30:51.452Z"
   },
   {
    "duration": 13,
    "start_time": "2021-06-19T22:30:51.484Z"
   },
   {
    "duration": 51,
    "start_time": "2021-06-19T22:30:51.500Z"
   },
   {
    "duration": 11904,
    "start_time": "2021-06-19T22:30:51.554Z"
   },
   {
    "duration": 3,
    "start_time": "2021-06-19T22:31:03.460Z"
   },
   {
    "duration": 6,
    "start_time": "2021-06-19T22:31:03.466Z"
   },
   {
    "duration": 35,
    "start_time": "2021-06-19T22:31:03.475Z"
   },
   {
    "duration": 16,
    "start_time": "2021-06-19T22:31:03.524Z"
   },
   {
    "duration": 23,
    "start_time": "2021-06-19T22:31:03.542Z"
   },
   {
    "duration": 66,
    "start_time": "2021-06-19T22:31:03.568Z"
   },
   {
    "duration": 24,
    "start_time": "2021-06-19T22:31:03.638Z"
   },
   {
    "duration": 62,
    "start_time": "2021-06-19T22:31:03.664Z"
   },
   {
    "duration": 6,
    "start_time": "2021-06-19T22:31:03.728Z"
   },
   {
    "duration": 11,
    "start_time": "2021-06-19T22:31:03.737Z"
   },
   {
    "duration": 17,
    "start_time": "2021-06-19T22:31:03.751Z"
   },
   {
    "duration": 7,
    "start_time": "2021-06-19T22:31:03.771Z"
   },
   {
    "duration": 117,
    "start_time": "2021-06-19T22:31:03.780Z"
   },
   {
    "duration": 6,
    "start_time": "2021-06-19T22:31:03.899Z"
   },
   {
    "duration": 24,
    "start_time": "2021-06-19T22:31:03.907Z"
   },
   {
    "duration": 849,
    "start_time": "2021-06-19T22:31:03.935Z"
   },
   {
    "duration": 6768,
    "start_time": "2021-06-19T22:31:04.787Z"
   },
   {
    "duration": -228,
    "start_time": "2021-06-19T22:31:11.786Z"
   },
   {
    "duration": 9,
    "start_time": "2021-06-19T22:32:50.214Z"
   },
   {
    "duration": 933,
    "start_time": "2021-06-19T22:32:52.271Z"
   },
   {
    "duration": 6,
    "start_time": "2021-06-19T22:38:44.290Z"
   },
   {
    "duration": 7,
    "start_time": "2021-06-19T22:39:45.134Z"
   },
   {
    "duration": 5,
    "start_time": "2021-06-19T22:39:48.205Z"
   },
   {
    "duration": 610,
    "start_time": "2021-06-19T22:40:16.557Z"
   },
   {
    "duration": 6,
    "start_time": "2021-06-19T22:41:22.285Z"
   },
   {
    "duration": 4,
    "start_time": "2021-06-19T22:41:22.627Z"
   },
   {
    "duration": 981,
    "start_time": "2021-06-19T22:41:24.235Z"
   },
   {
    "duration": 5,
    "start_time": "2021-06-19T22:41:53.857Z"
   },
   {
    "duration": 570,
    "start_time": "2021-06-19T22:41:54.486Z"
   },
   {
    "duration": 4,
    "start_time": "2021-06-19T22:42:40.151Z"
   },
   {
    "duration": 550,
    "start_time": "2021-06-19T22:42:41.029Z"
   },
   {
    "duration": 5,
    "start_time": "2021-06-19T22:43:02.431Z"
   },
   {
    "duration": 4,
    "start_time": "2021-06-19T22:43:10.760Z"
   },
   {
    "duration": 12,
    "start_time": "2021-06-19T22:43:11.420Z"
   },
   {
    "duration": 7,
    "start_time": "2021-06-19T22:44:32.510Z"
   },
   {
    "duration": 4,
    "start_time": "2021-06-19T22:44:33.776Z"
   },
   {
    "duration": 12,
    "start_time": "2021-06-19T22:44:34.908Z"
   },
   {
    "duration": 6,
    "start_time": "2021-06-19T22:44:57.074Z"
   },
   {
    "duration": 4,
    "start_time": "2021-06-19T22:44:57.537Z"
   },
   {
    "duration": 6,
    "start_time": "2021-06-19T22:45:08.006Z"
   },
   {
    "duration": 5,
    "start_time": "2021-06-19T22:45:08.335Z"
   },
   {
    "duration": 13,
    "start_time": "2021-06-19T22:45:08.954Z"
   },
   {
    "duration": 22,
    "start_time": "2021-06-19T22:45:33.740Z"
   },
   {
    "duration": 13,
    "start_time": "2021-06-19T22:45:37.645Z"
   },
   {
    "duration": 1657,
    "start_time": "2021-06-20T19:11:46.925Z"
   },
   {
    "duration": 315,
    "start_time": "2021-06-20T19:11:48.584Z"
   },
   {
    "duration": 6,
    "start_time": "2021-06-20T19:11:48.902Z"
   },
   {
    "duration": 20,
    "start_time": "2021-06-20T19:11:48.911Z"
   },
   {
    "duration": 9,
    "start_time": "2021-06-20T19:11:48.933Z"
   },
   {
    "duration": 12,
    "start_time": "2021-06-20T19:11:48.944Z"
   },
   {
    "duration": 3,
    "start_time": "2021-06-20T19:11:48.959Z"
   },
   {
    "duration": 11,
    "start_time": "2021-06-20T19:11:48.964Z"
   },
   {
    "duration": 3,
    "start_time": "2021-06-20T19:11:49.012Z"
   },
   {
    "duration": 36,
    "start_time": "2021-06-20T19:11:49.018Z"
   },
   {
    "duration": 12062,
    "start_time": "2021-06-20T19:11:49.056Z"
   },
   {
    "duration": 3,
    "start_time": "2021-06-20T19:12:01.121Z"
   },
   {
    "duration": 16,
    "start_time": "2021-06-20T19:12:01.127Z"
   },
   {
    "duration": 35,
    "start_time": "2021-06-20T19:12:01.145Z"
   },
   {
    "duration": 26,
    "start_time": "2021-06-20T19:12:01.183Z"
   },
   {
    "duration": 33,
    "start_time": "2021-06-20T19:12:01.212Z"
   },
   {
    "duration": 35,
    "start_time": "2021-06-20T19:12:01.248Z"
   },
   {
    "duration": 47,
    "start_time": "2021-06-20T19:12:01.286Z"
   },
   {
    "duration": 54,
    "start_time": "2021-06-20T19:12:01.336Z"
   },
   {
    "duration": 28,
    "start_time": "2021-06-20T19:12:01.393Z"
   },
   {
    "duration": 15,
    "start_time": "2021-06-20T19:12:01.423Z"
   },
   {
    "duration": 18,
    "start_time": "2021-06-20T19:12:01.440Z"
   },
   {
    "duration": 13,
    "start_time": "2021-06-20T19:12:01.460Z"
   },
   {
    "duration": 116,
    "start_time": "2021-06-20T19:12:01.475Z"
   },
   {
    "duration": 15,
    "start_time": "2021-06-20T19:12:01.594Z"
   },
   {
    "duration": 15,
    "start_time": "2021-06-20T19:12:01.611Z"
   },
   {
    "duration": 839,
    "start_time": "2021-06-20T19:12:01.631Z"
   },
   {
    "duration": 9,
    "start_time": "2021-06-20T19:12:02.473Z"
   },
   {
    "duration": 1151,
    "start_time": "2021-06-20T19:12:02.485Z"
   },
   {
    "duration": 8,
    "start_time": "2021-06-20T19:12:03.639Z"
   },
   {
    "duration": 15,
    "start_time": "2021-06-20T19:12:03.650Z"
   },
   {
    "duration": 50,
    "start_time": "2021-06-20T19:12:03.669Z"
   },
   {
    "duration": 96,
    "start_time": "2021-06-20T19:12:03.722Z"
   },
   {
    "duration": 93,
    "start_time": "2021-06-20T19:12:03.821Z"
   },
   {
    "duration": 91,
    "start_time": "2021-06-20T19:12:03.918Z"
   },
   {
    "duration": 11,
    "start_time": "2021-06-20T19:12:04.012Z"
   },
   {
    "duration": 18,
    "start_time": "2021-06-20T19:12:04.025Z"
   },
   {
    "duration": 66,
    "start_time": "2021-06-20T19:12:04.047Z"
   },
   {
    "duration": 294,
    "start_time": "2021-06-20T19:12:04.117Z"
   },
   {
    "duration": 98,
    "start_time": "2021-06-20T19:12:04.414Z"
   },
   {
    "duration": 99,
    "start_time": "2021-06-20T19:12:04.515Z"
   },
   {
    "duration": 93,
    "start_time": "2021-06-20T19:12:04.617Z"
   },
   {
    "duration": 570,
    "start_time": "2021-06-20T19:12:04.712Z"
   },
   {
    "duration": 431,
    "start_time": "2021-06-20T19:18:17.614Z"
   },
   {
    "duration": 6,
    "start_time": "2021-06-20T19:18:45.918Z"
   },
   {
    "duration": 398,
    "start_time": "2021-06-20T19:18:57.445Z"
   },
   {
    "duration": 6,
    "start_time": "2021-06-20T19:19:14.584Z"
   },
   {
    "duration": 6,
    "start_time": "2021-06-20T19:19:17.335Z"
   },
   {
    "duration": 373,
    "start_time": "2021-06-20T19:20:35.176Z"
   },
   {
    "duration": 324,
    "start_time": "2021-06-20T19:20:42.297Z"
   },
   {
    "duration": 332,
    "start_time": "2021-06-20T19:20:50.248Z"
   },
   {
    "duration": 348,
    "start_time": "2021-06-20T19:20:54.369Z"
   },
   {
    "duration": 356,
    "start_time": "2021-06-20T19:21:29.453Z"
   },
   {
    "duration": 554,
    "start_time": "2021-06-20T19:21:36.924Z"
   },
   {
    "duration": 307,
    "start_time": "2021-06-20T19:21:42.612Z"
   },
   {
    "duration": 341,
    "start_time": "2021-06-20T19:21:57.457Z"
   },
   {
    "duration": 361,
    "start_time": "2021-06-20T19:22:06.499Z"
   },
   {
    "duration": 12,
    "start_time": "2021-06-20T19:22:16.219Z"
   },
   {
    "duration": 18,
    "start_time": "2021-06-20T19:23:17.269Z"
   },
   {
    "duration": 1519,
    "start_time": "2021-06-21T14:08:08.564Z"
   },
   {
    "duration": 310,
    "start_time": "2021-06-21T14:08:10.086Z"
   },
   {
    "duration": 6,
    "start_time": "2021-06-21T14:08:10.399Z"
   },
   {
    "duration": 21,
    "start_time": "2021-06-21T14:08:10.407Z"
   },
   {
    "duration": 9,
    "start_time": "2021-06-21T14:08:10.431Z"
   },
   {
    "duration": 16,
    "start_time": "2021-06-21T14:08:10.443Z"
   },
   {
    "duration": 3,
    "start_time": "2021-06-21T14:08:10.462Z"
   },
   {
    "duration": 10,
    "start_time": "2021-06-21T14:08:10.468Z"
   },
   {
    "duration": 3,
    "start_time": "2021-06-21T14:08:10.510Z"
   },
   {
    "duration": 37,
    "start_time": "2021-06-21T14:08:10.515Z"
   },
   {
    "duration": 12118,
    "start_time": "2021-06-21T14:08:10.554Z"
   },
   {
    "duration": 5,
    "start_time": "2021-06-21T14:08:22.675Z"
   },
   {
    "duration": 32,
    "start_time": "2021-06-21T14:08:22.683Z"
   },
   {
    "duration": 24,
    "start_time": "2021-06-21T14:08:22.718Z"
   },
   {
    "duration": 16,
    "start_time": "2021-06-21T14:08:22.745Z"
   },
   {
    "duration": 53,
    "start_time": "2021-06-21T14:08:22.764Z"
   },
   {
    "duration": 34,
    "start_time": "2021-06-21T14:08:22.820Z"
   },
   {
    "duration": 24,
    "start_time": "2021-06-21T14:08:22.856Z"
   },
   {
    "duration": 60,
    "start_time": "2021-06-21T14:08:22.882Z"
   },
   {
    "duration": 13,
    "start_time": "2021-06-21T14:08:22.945Z"
   },
   {
    "duration": 11,
    "start_time": "2021-06-21T14:08:22.961Z"
   },
   {
    "duration": 35,
    "start_time": "2021-06-21T14:08:22.974Z"
   },
   {
    "duration": 4,
    "start_time": "2021-06-21T14:08:23.015Z"
   },
   {
    "duration": 115,
    "start_time": "2021-06-21T14:08:23.022Z"
   },
   {
    "duration": 6,
    "start_time": "2021-06-21T14:08:23.139Z"
   },
   {
    "duration": 16,
    "start_time": "2021-06-21T14:08:23.148Z"
   },
   {
    "duration": 869,
    "start_time": "2021-06-21T14:08:23.167Z"
   },
   {
    "duration": 8,
    "start_time": "2021-06-21T14:08:24.039Z"
   },
   {
    "duration": 968,
    "start_time": "2021-06-21T14:08:24.049Z"
   },
   {
    "duration": 6,
    "start_time": "2021-06-21T14:08:25.020Z"
   },
   {
    "duration": 13,
    "start_time": "2021-06-21T14:08:25.028Z"
   },
   {
    "duration": 18,
    "start_time": "2021-06-21T14:08:25.044Z"
   },
   {
    "duration": 104,
    "start_time": "2021-06-21T14:08:25.111Z"
   },
   {
    "duration": 6,
    "start_time": "2021-06-21T14:08:25.217Z"
   },
   {
    "duration": 3,
    "start_time": "2021-06-21T14:08:25.310Z"
   },
   {
    "duration": 8,
    "start_time": "2021-06-21T14:08:25.316Z"
   },
   {
    "duration": 9,
    "start_time": "2021-06-21T14:08:25.326Z"
   },
   {
    "duration": 77,
    "start_time": "2021-06-21T14:08:25.337Z"
   },
   {
    "duration": 9,
    "start_time": "2021-06-21T14:08:25.416Z"
   },
   {
    "duration": 87,
    "start_time": "2021-06-21T14:08:25.427Z"
   },
   {
    "duration": 91,
    "start_time": "2021-06-21T14:08:25.517Z"
   },
   {
    "duration": 8,
    "start_time": "2021-06-21T14:08:25.611Z"
   },
   {
    "duration": 92,
    "start_time": "2021-06-21T14:08:25.622Z"
   },
   {
    "duration": 94,
    "start_time": "2021-06-21T14:08:25.717Z"
   },
   {
    "duration": 1572,
    "start_time": "2021-06-21T18:29:40.388Z"
   },
   {
    "duration": 248,
    "start_time": "2021-06-21T18:29:41.963Z"
   },
   {
    "duration": 5,
    "start_time": "2021-06-21T18:29:42.215Z"
   },
   {
    "duration": 27,
    "start_time": "2021-06-21T18:29:42.224Z"
   },
   {
    "duration": 12,
    "start_time": "2021-06-21T18:29:42.254Z"
   },
   {
    "duration": 49,
    "start_time": "2021-06-21T18:29:42.269Z"
   },
   {
    "duration": 37,
    "start_time": "2021-06-21T18:29:42.321Z"
   },
   {
    "duration": 10,
    "start_time": "2021-06-21T18:29:42.362Z"
   },
   {
    "duration": 6,
    "start_time": "2021-06-21T18:29:42.376Z"
   },
   {
    "duration": 51,
    "start_time": "2021-06-21T18:29:42.385Z"
   },
   {
    "duration": 11877,
    "start_time": "2021-06-21T18:29:42.439Z"
   },
   {
    "duration": 4,
    "start_time": "2021-06-21T18:29:54.318Z"
   },
   {
    "duration": 10,
    "start_time": "2021-06-21T18:29:54.324Z"
   },
   {
    "duration": 19,
    "start_time": "2021-06-21T18:29:54.337Z"
   },
   {
    "duration": 14,
    "start_time": "2021-06-21T18:29:54.358Z"
   },
   {
    "duration": 56,
    "start_time": "2021-06-21T18:29:54.374Z"
   },
   {
    "duration": 35,
    "start_time": "2021-06-21T18:29:54.433Z"
   },
   {
    "duration": 54,
    "start_time": "2021-06-21T18:29:54.471Z"
   },
   {
    "duration": 36,
    "start_time": "2021-06-21T18:29:54.528Z"
   },
   {
    "duration": 12,
    "start_time": "2021-06-21T18:29:54.566Z"
   },
   {
    "duration": 29,
    "start_time": "2021-06-21T18:29:54.581Z"
   },
   {
    "duration": 5,
    "start_time": "2021-06-21T18:29:54.613Z"
   },
   {
    "duration": 5,
    "start_time": "2021-06-21T18:29:54.623Z"
   },
   {
    "duration": 122,
    "start_time": "2021-06-21T18:29:54.631Z"
   },
   {
    "duration": 6,
    "start_time": "2021-06-21T18:29:54.756Z"
   },
   {
    "duration": 13,
    "start_time": "2021-06-21T18:29:54.764Z"
   },
   {
    "duration": 1036,
    "start_time": "2021-06-21T18:29:54.779Z"
   },
   {
    "duration": 11,
    "start_time": "2021-06-21T18:29:55.818Z"
   },
   {
    "duration": 1377,
    "start_time": "2021-06-21T18:29:55.832Z"
   },
   {
    "duration": 8,
    "start_time": "2021-06-21T18:29:57.212Z"
   },
   {
    "duration": 10,
    "start_time": "2021-06-21T18:29:57.223Z"
   },
   {
    "duration": 74,
    "start_time": "2021-06-21T18:29:57.236Z"
   },
   {
    "duration": 102,
    "start_time": "2021-06-21T18:29:57.314Z"
   },
   {
    "duration": 92,
    "start_time": "2021-06-21T18:29:57.420Z"
   },
   {
    "duration": 92,
    "start_time": "2021-06-21T18:29:57.516Z"
   },
   {
    "duration": 5,
    "start_time": "2021-06-21T18:29:57.611Z"
   },
   {
    "duration": 10,
    "start_time": "2021-06-21T18:29:57.618Z"
   },
   {
    "duration": 78,
    "start_time": "2021-06-21T18:29:57.631Z"
   },
   {
    "duration": 4,
    "start_time": "2021-06-21T18:29:57.712Z"
   },
   {
    "duration": 94,
    "start_time": "2021-06-21T18:29:57.721Z"
   },
   {
    "duration": 97,
    "start_time": "2021-06-21T18:29:57.818Z"
   },
   {
    "duration": 11,
    "start_time": "2021-06-21T18:29:57.918Z"
   },
   {
    "duration": 13,
    "start_time": "2021-06-21T18:29:58.011Z"
   },
   {
    "duration": 14,
    "start_time": "2021-06-21T18:29:58.110Z"
   },
   {
    "duration": 1737,
    "start_time": "2021-06-21T20:37:04.427Z"
   },
   {
    "duration": 219,
    "start_time": "2021-06-21T20:37:06.167Z"
   },
   {
    "duration": 5,
    "start_time": "2021-06-21T20:37:06.389Z"
   },
   {
    "duration": 47,
    "start_time": "2021-06-21T20:37:06.397Z"
   },
   {
    "duration": 24,
    "start_time": "2021-06-21T20:37:06.446Z"
   },
   {
    "duration": 38,
    "start_time": "2021-06-21T20:37:06.472Z"
   },
   {
    "duration": 12,
    "start_time": "2021-06-21T20:37:06.513Z"
   },
   {
    "duration": 29,
    "start_time": "2021-06-21T20:37:06.529Z"
   },
   {
    "duration": 12,
    "start_time": "2021-06-21T20:37:06.561Z"
   },
   {
    "duration": 58,
    "start_time": "2021-06-21T20:37:06.575Z"
   },
   {
    "duration": 12284,
    "start_time": "2021-06-21T20:37:06.636Z"
   },
   {
    "duration": 5,
    "start_time": "2021-06-21T20:37:18.922Z"
   },
   {
    "duration": 18,
    "start_time": "2021-06-21T20:37:18.930Z"
   },
   {
    "duration": 25,
    "start_time": "2021-06-21T20:37:18.951Z"
   },
   {
    "duration": 31,
    "start_time": "2021-06-21T20:37:18.979Z"
   },
   {
    "duration": 24,
    "start_time": "2021-06-21T20:37:19.013Z"
   },
   {
    "duration": 37,
    "start_time": "2021-06-21T20:37:19.039Z"
   },
   {
    "duration": 48,
    "start_time": "2021-06-21T20:37:19.079Z"
   },
   {
    "duration": 37,
    "start_time": "2021-06-21T20:37:19.129Z"
   },
   {
    "duration": 18,
    "start_time": "2021-06-21T20:37:19.169Z"
   },
   {
    "duration": 25,
    "start_time": "2021-06-21T20:37:19.190Z"
   },
   {
    "duration": 4,
    "start_time": "2021-06-21T20:37:19.218Z"
   },
   {
    "duration": 5,
    "start_time": "2021-06-21T20:37:19.228Z"
   },
   {
    "duration": 133,
    "start_time": "2021-06-21T20:37:19.237Z"
   },
   {
    "duration": 6,
    "start_time": "2021-06-21T20:37:19.373Z"
   },
   {
    "duration": 32,
    "start_time": "2021-06-21T20:37:19.382Z"
   },
   {
    "duration": 863,
    "start_time": "2021-06-21T20:37:19.417Z"
   },
   {
    "duration": 10,
    "start_time": "2021-06-21T20:37:20.310Z"
   },
   {
    "duration": 995,
    "start_time": "2021-06-21T20:37:20.322Z"
   },
   {
    "duration": 6,
    "start_time": "2021-06-21T20:37:21.319Z"
   },
   {
    "duration": 16,
    "start_time": "2021-06-21T20:37:21.328Z"
   },
   {
    "duration": 18,
    "start_time": "2021-06-21T20:37:21.347Z"
   },
   {
    "duration": 107,
    "start_time": "2021-06-21T20:37:21.409Z"
   },
   {
    "duration": 91,
    "start_time": "2021-06-21T20:37:21.519Z"
   },
   {
    "duration": 8,
    "start_time": "2021-06-21T20:37:21.613Z"
   },
   {
    "duration": 97,
    "start_time": "2021-06-21T20:37:21.624Z"
   },
   {
    "duration": 10,
    "start_time": "2021-06-21T20:37:21.724Z"
   },
   {
    "duration": 74,
    "start_time": "2021-06-21T20:37:21.737Z"
   },
   {
    "duration": 6,
    "start_time": "2021-06-21T20:37:21.815Z"
   },
   {
    "duration": 90,
    "start_time": "2021-06-21T20:37:21.824Z"
   },
   {
    "duration": 11,
    "start_time": "2021-06-21T20:37:21.917Z"
   },
   {
    "duration": 7,
    "start_time": "2021-06-21T20:37:22.010Z"
   },
   {
    "duration": 94,
    "start_time": "2021-06-21T20:37:22.021Z"
   },
   {
    "duration": 99,
    "start_time": "2021-06-21T20:37:22.119Z"
   },
   {
    "duration": 1580,
    "start_time": "2021-06-22T10:02:18.805Z"
   },
   {
    "duration": 274,
    "start_time": "2021-06-22T10:02:20.388Z"
   },
   {
    "duration": 6,
    "start_time": "2021-06-22T10:02:20.665Z"
   },
   {
    "duration": 30,
    "start_time": "2021-06-22T10:02:20.674Z"
   },
   {
    "duration": 21,
    "start_time": "2021-06-22T10:02:20.707Z"
   },
   {
    "duration": 11,
    "start_time": "2021-06-22T10:02:20.730Z"
   },
   {
    "duration": 4,
    "start_time": "2021-06-22T10:02:20.743Z"
   },
   {
    "duration": 18,
    "start_time": "2021-06-22T10:02:20.751Z"
   },
   {
    "duration": 9,
    "start_time": "2021-06-22T10:02:20.772Z"
   },
   {
    "duration": 50,
    "start_time": "2021-06-22T10:02:20.783Z"
   },
   {
    "duration": 19169,
    "start_time": "2021-06-22T10:02:20.835Z"
   },
   {
    "duration": 6,
    "start_time": "2021-06-22T10:02:40.007Z"
   },
   {
    "duration": 11,
    "start_time": "2021-06-22T10:02:40.016Z"
   },
   {
    "duration": 21,
    "start_time": "2021-06-22T10:02:40.030Z"
   },
   {
    "duration": 15,
    "start_time": "2021-06-22T10:02:40.054Z"
   },
   {
    "duration": 63,
    "start_time": "2021-06-22T10:02:40.071Z"
   },
   {
    "duration": 34,
    "start_time": "2021-06-22T10:02:40.137Z"
   },
   {
    "duration": 60,
    "start_time": "2021-06-22T10:02:40.173Z"
   },
   {
    "duration": 38,
    "start_time": "2021-06-22T10:02:40.235Z"
   },
   {
    "duration": 6,
    "start_time": "2021-06-22T10:02:40.276Z"
   },
   {
    "duration": 34,
    "start_time": "2021-06-22T10:02:40.284Z"
   },
   {
    "duration": 5,
    "start_time": "2021-06-22T10:02:40.321Z"
   },
   {
    "duration": 5,
    "start_time": "2021-06-22T10:02:40.331Z"
   },
   {
    "duration": 121,
    "start_time": "2021-06-22T10:02:40.338Z"
   },
   {
    "duration": 5,
    "start_time": "2021-06-22T10:02:40.462Z"
   },
   {
    "duration": 13,
    "start_time": "2021-06-22T10:02:40.470Z"
   },
   {
    "duration": 929,
    "start_time": "2021-06-22T10:02:40.486Z"
   },
   {
    "duration": 10,
    "start_time": "2021-06-22T10:02:41.417Z"
   },
   {
    "duration": 1116,
    "start_time": "2021-06-22T10:02:41.429Z"
   },
   {
    "duration": 6,
    "start_time": "2021-06-22T10:02:42.547Z"
   },
   {
    "duration": 9,
    "start_time": "2021-06-22T10:02:42.555Z"
   },
   {
    "duration": 52,
    "start_time": "2021-06-22T10:02:42.566Z"
   },
   {
    "duration": 95,
    "start_time": "2021-06-22T10:02:42.620Z"
   },
   {
    "duration": 15,
    "start_time": "2021-06-22T10:02:42.718Z"
   },
   {
    "duration": 4,
    "start_time": "2021-06-22T10:02:42.810Z"
   },
   {
    "duration": 12,
    "start_time": "2021-06-22T10:02:42.816Z"
   },
   {
    "duration": 8,
    "start_time": "2021-06-22T10:02:42.830Z"
   },
   {
    "duration": 81,
    "start_time": "2021-06-22T10:02:42.840Z"
   },
   {
    "duration": 7,
    "start_time": "2021-06-22T10:02:42.926Z"
   },
   {
    "duration": 20,
    "start_time": "2021-06-22T10:02:43.010Z"
   },
   {
    "duration": 22,
    "start_time": "2021-06-22T10:02:43.110Z"
   },
   {
    "duration": 6,
    "start_time": "2021-06-22T10:02:43.135Z"
   },
   {
    "duration": 98,
    "start_time": "2021-06-22T10:02:43.231Z"
   },
   {
    "duration": 80,
    "start_time": "2021-06-22T10:02:43.331Z"
   }
  ],
  "kernelspec": {
   "display_name": "Python 3",
   "language": "python",
   "name": "python3"
  },
  "language_info": {
   "codemirror_mode": {
    "name": "ipython",
    "version": 3
   },
   "file_extension": ".py",
   "mimetype": "text/x-python",
   "name": "python",
   "nbconvert_exporter": "python",
   "pygments_lexer": "ipython3",
   "version": "3.7.10"
  },
  "toc": {
   "base_numbering": 1,
   "nav_menu": {},
   "number_sections": true,
   "sideBar": true,
   "skip_h1_title": true,
   "title_cell": "Table of Contents",
   "title_sidebar": "Contents",
   "toc_cell": false,
   "toc_position": {},
   "toc_section_display": true,
   "toc_window_display": false
  }
 },
 "nbformat": 4,
 "nbformat_minor": 4
}
